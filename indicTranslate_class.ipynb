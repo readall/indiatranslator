{
  "nbformat": 4,
  "nbformat_minor": 0,
  "metadata": {
    "colab": {
      "name": "indicTranslate.ipynb",
      "provenance": [],
      "collapsed_sections": [],
      "mount_file_id": "1_d-VqqEAdMN9MK8eILnfxXEnuZ6C0MSc",
      "authorship_tag": "ABX9TyNa2lPnig5zA4HqyNJi4NrV",
      "include_colab_link": true
    },
    "kernelspec": {
      "name": "python3",
      "display_name": "Python 3"
    },
    "language_info": {
      "name": "python"
    }
  },
  "cells": [
    {
      "cell_type": "markdown",
      "metadata": {
        "id": "view-in-github",
        "colab_type": "text"
      },
      "source": [
        "<a href=\"https://colab.research.google.com/github/readall/indiatranslator/blob/main/indicTranslate_class.ipynb\" target=\"_parent\"><img src=\"https://colab.research.google.com/assets/colab-badge.svg\" alt=\"Open In Colab\"/></a>"
      ]
    },
    {
      "cell_type": "code",
      "metadata": {
        "id": "5kh_aJ5Fl0Mz"
      },
      "source": [
        "# %%bash\n",
        "# rm -rf fairseq"
      ],
      "execution_count": 1,
      "outputs": []
    },
    {
      "cell_type": "code",
      "metadata": {
        "id": "Cj9kQGm4RKbf",
        "colab": {
          "base_uri": "https://localhost:8080/"
        },
        "outputId": "e0b73ce0-e96e-433b-fe67-2698b9bcf867"
      },
      "source": [
        "%%bash\n",
        "rm -rf sample_data\n",
        "pip install tqdm boto3 requests regex sentencepiece sacremoses transformers easyocr\n",
        "pip install mosestokenizer indic-nlp-library mock sacrebleu tensorboardX pyarrow subword-nmt\n",
        "git clone https://github.com/pytorch/fairseq.git\n",
        "cd fairseq\n",
        "pip install --editable ./\n",
        "%cd ..\n"
      ],
      "execution_count": 2,
      "outputs": [
        {
          "output_type": "stream",
          "text": [
            "Requirement already satisfied: tqdm in /usr/local/lib/python3.7/dist-packages (4.62.0)\n",
            "Requirement already satisfied: boto3 in /usr/local/lib/python3.7/dist-packages (1.18.25)\n",
            "Requirement already satisfied: requests in /usr/local/lib/python3.7/dist-packages (2.23.0)\n",
            "Requirement already satisfied: regex in /usr/local/lib/python3.7/dist-packages (2019.12.20)\n",
            "Requirement already satisfied: sentencepiece in /usr/local/lib/python3.7/dist-packages (0.1.96)\n",
            "Requirement already satisfied: sacremoses in /usr/local/lib/python3.7/dist-packages (0.0.45)\n",
            "Requirement already satisfied: transformers in /usr/local/lib/python3.7/dist-packages (4.9.2)\n",
            "Requirement already satisfied: easyocr in /usr/local/lib/python3.7/dist-packages (1.4)\n",
            "Requirement already satisfied: jmespath<1.0.0,>=0.7.1 in /usr/local/lib/python3.7/dist-packages (from boto3) (0.10.0)\n",
            "Requirement already satisfied: botocore<1.22.0,>=1.21.25 in /usr/local/lib/python3.7/dist-packages (from boto3) (1.21.25)\n",
            "Requirement already satisfied: s3transfer<0.6.0,>=0.5.0 in /usr/local/lib/python3.7/dist-packages (from boto3) (0.5.0)\n",
            "Requirement already satisfied: python-dateutil<3.0.0,>=2.1 in /usr/local/lib/python3.7/dist-packages (from botocore<1.22.0,>=1.21.25->boto3) (2.8.2)\n",
            "Requirement already satisfied: urllib3<1.27,>=1.25.4 in /usr/local/lib/python3.7/dist-packages (from botocore<1.22.0,>=1.21.25->boto3) (1.25.11)\n",
            "Requirement already satisfied: six>=1.5 in /usr/local/lib/python3.7/dist-packages (from python-dateutil<3.0.0,>=2.1->botocore<1.22.0,>=1.21.25->boto3) (1.15.0)\n",
            "Requirement already satisfied: certifi>=2017.4.17 in /usr/local/lib/python3.7/dist-packages (from requests) (2021.5.30)\n",
            "Requirement already satisfied: chardet<4,>=3.0.2 in /usr/local/lib/python3.7/dist-packages (from requests) (3.0.4)\n",
            "Requirement already satisfied: idna<3,>=2.5 in /usr/local/lib/python3.7/dist-packages (from requests) (2.10)\n",
            "Requirement already satisfied: click in /usr/local/lib/python3.7/dist-packages (from sacremoses) (7.1.2)\n",
            "Requirement already satisfied: joblib in /usr/local/lib/python3.7/dist-packages (from sacremoses) (1.0.1)\n",
            "Requirement already satisfied: pyyaml>=5.1 in /usr/local/lib/python3.7/dist-packages (from transformers) (5.4.1)\n",
            "Requirement already satisfied: packaging in /usr/local/lib/python3.7/dist-packages (from transformers) (21.0)\n",
            "Requirement already satisfied: numpy>=1.17 in /usr/local/lib/python3.7/dist-packages (from transformers) (1.19.5)\n",
            "Requirement already satisfied: filelock in /usr/local/lib/python3.7/dist-packages (from transformers) (3.0.12)\n",
            "Requirement already satisfied: tokenizers<0.11,>=0.10.1 in /usr/local/lib/python3.7/dist-packages (from transformers) (0.10.3)\n",
            "Requirement already satisfied: huggingface-hub==0.0.12 in /usr/local/lib/python3.7/dist-packages (from transformers) (0.0.12)\n",
            "Requirement already satisfied: importlib-metadata in /usr/local/lib/python3.7/dist-packages (from transformers) (4.6.4)\n",
            "Requirement already satisfied: typing-extensions in /usr/local/lib/python3.7/dist-packages (from huggingface-hub==0.0.12->transformers) (3.7.4.3)\n",
            "Requirement already satisfied: pyparsing>=2.0.2 in /usr/local/lib/python3.7/dist-packages (from packaging->transformers) (2.4.7)\n",
            "Requirement already satisfied: scikit-image in /usr/local/lib/python3.7/dist-packages (from easyocr) (0.16.2)\n",
            "Requirement already satisfied: torch in /usr/local/lib/python3.7/dist-packages (from easyocr) (1.9.0+cu102)\n",
            "Requirement already satisfied: torchvision>=0.5 in /usr/local/lib/python3.7/dist-packages (from easyocr) (0.10.0+cu102)\n",
            "Requirement already satisfied: Pillow in /usr/local/lib/python3.7/dist-packages (from easyocr) (7.1.2)\n",
            "Requirement already satisfied: python-bidi in /usr/local/lib/python3.7/dist-packages (from easyocr) (0.4.2)\n",
            "Requirement already satisfied: opencv-python in /usr/local/lib/python3.7/dist-packages (from easyocr) (4.1.2.30)\n",
            "Requirement already satisfied: scipy in /usr/local/lib/python3.7/dist-packages (from easyocr) (1.4.1)\n",
            "Requirement already satisfied: zipp>=0.5 in /usr/local/lib/python3.7/dist-packages (from importlib-metadata->transformers) (3.5.0)\n",
            "Requirement already satisfied: PyWavelets>=0.4.0 in /usr/local/lib/python3.7/dist-packages (from scikit-image->easyocr) (1.1.1)\n",
            "Requirement already satisfied: imageio>=2.3.0 in /usr/local/lib/python3.7/dist-packages (from scikit-image->easyocr) (2.4.1)\n",
            "Requirement already satisfied: matplotlib!=3.0.0,>=2.0.0 in /usr/local/lib/python3.7/dist-packages (from scikit-image->easyocr) (3.2.2)\n",
            "Requirement already satisfied: networkx>=2.0 in /usr/local/lib/python3.7/dist-packages (from scikit-image->easyocr) (2.6.2)\n",
            "Requirement already satisfied: kiwisolver>=1.0.1 in /usr/local/lib/python3.7/dist-packages (from matplotlib!=3.0.0,>=2.0.0->scikit-image->easyocr) (1.3.1)\n",
            "Requirement already satisfied: cycler>=0.10 in /usr/local/lib/python3.7/dist-packages (from matplotlib!=3.0.0,>=2.0.0->scikit-image->easyocr) (0.10.0)\n",
            "Requirement already satisfied: mosestokenizer in /usr/local/lib/python3.7/dist-packages (1.1.0)\n",
            "Requirement already satisfied: indic-nlp-library in /usr/local/lib/python3.7/dist-packages (0.81)\n",
            "Requirement already satisfied: mock in /usr/local/lib/python3.7/dist-packages (4.0.3)\n",
            "Requirement already satisfied: sacrebleu in /usr/local/lib/python3.7/dist-packages (2.0.0)\n",
            "Requirement already satisfied: tensorboardX in /usr/local/lib/python3.7/dist-packages (2.4)\n",
            "Requirement already satisfied: pyarrow in /usr/local/lib/python3.7/dist-packages (3.0.0)\n",
            "Requirement already satisfied: subword-nmt in /usr/local/lib/python3.7/dist-packages (0.3.7)\n",
            "Requirement already satisfied: docopt in /usr/local/lib/python3.7/dist-packages (from mosestokenizer) (0.6.2)\n",
            "Requirement already satisfied: openfile in /usr/local/lib/python3.7/dist-packages (from mosestokenizer) (0.0.7)\n",
            "Requirement already satisfied: uctools in /usr/local/lib/python3.7/dist-packages (from mosestokenizer) (1.3.0)\n",
            "Requirement already satisfied: toolwrapper in /usr/local/lib/python3.7/dist-packages (from mosestokenizer) (2.1.0)\n",
            "Requirement already satisfied: numpy in /usr/local/lib/python3.7/dist-packages (from indic-nlp-library) (1.19.5)\n",
            "Requirement already satisfied: sphinx-argparse in /usr/local/lib/python3.7/dist-packages (from indic-nlp-library) (0.2.5)\n",
            "Requirement already satisfied: pandas in /usr/local/lib/python3.7/dist-packages (from indic-nlp-library) (1.1.5)\n",
            "Requirement already satisfied: morfessor in /usr/local/lib/python3.7/dist-packages (from indic-nlp-library) (2.0.6)\n",
            "Requirement already satisfied: sphinx-rtd-theme in /usr/local/lib/python3.7/dist-packages (from indic-nlp-library) (0.5.2)\n",
            "Requirement already satisfied: portalocker in /usr/local/lib/python3.7/dist-packages (from sacrebleu) (2.3.0)\n",
            "Requirement already satisfied: tabulate>=0.8.9 in /usr/local/lib/python3.7/dist-packages (from sacrebleu) (0.8.9)\n",
            "Requirement already satisfied: colorama in /usr/local/lib/python3.7/dist-packages (from sacrebleu) (0.4.4)\n",
            "Requirement already satisfied: regex in /usr/local/lib/python3.7/dist-packages (from sacrebleu) (2019.12.20)\n",
            "Requirement already satisfied: protobuf>=3.8.0 in /usr/local/lib/python3.7/dist-packages (from tensorboardX) (3.17.3)\n",
            "Requirement already satisfied: six>=1.9 in /usr/local/lib/python3.7/dist-packages (from protobuf>=3.8.0->tensorboardX) (1.15.0)\n",
            "Requirement already satisfied: pytz>=2017.2 in /usr/local/lib/python3.7/dist-packages (from pandas->indic-nlp-library) (2018.9)\n",
            "Requirement already satisfied: python-dateutil>=2.7.3 in /usr/local/lib/python3.7/dist-packages (from pandas->indic-nlp-library) (2.8.2)\n",
            "Requirement already satisfied: sphinx>=1.2.0 in /usr/local/lib/python3.7/dist-packages (from sphinx-argparse->indic-nlp-library) (1.8.5)\n",
            "Requirement already satisfied: alabaster<0.8,>=0.7 in /usr/local/lib/python3.7/dist-packages (from sphinx>=1.2.0->sphinx-argparse->indic-nlp-library) (0.7.12)\n",
            "Requirement already satisfied: Pygments>=2.0 in /usr/local/lib/python3.7/dist-packages (from sphinx>=1.2.0->sphinx-argparse->indic-nlp-library) (2.6.1)\n",
            "Requirement already satisfied: packaging in /usr/local/lib/python3.7/dist-packages (from sphinx>=1.2.0->sphinx-argparse->indic-nlp-library) (21.0)\n",
            "Requirement already satisfied: requests>=2.0.0 in /usr/local/lib/python3.7/dist-packages (from sphinx>=1.2.0->sphinx-argparse->indic-nlp-library) (2.23.0)\n",
            "Requirement already satisfied: babel!=2.0,>=1.3 in /usr/local/lib/python3.7/dist-packages (from sphinx>=1.2.0->sphinx-argparse->indic-nlp-library) (2.9.1)\n",
            "Requirement already satisfied: setuptools in /usr/local/lib/python3.7/dist-packages (from sphinx>=1.2.0->sphinx-argparse->indic-nlp-library) (57.4.0)\n",
            "Requirement already satisfied: Jinja2>=2.3 in /usr/local/lib/python3.7/dist-packages (from sphinx>=1.2.0->sphinx-argparse->indic-nlp-library) (2.11.3)\n",
            "Requirement already satisfied: imagesize in /usr/local/lib/python3.7/dist-packages (from sphinx>=1.2.0->sphinx-argparse->indic-nlp-library) (1.2.0)\n",
            "Requirement already satisfied: sphinxcontrib-websupport in /usr/local/lib/python3.7/dist-packages (from sphinx>=1.2.0->sphinx-argparse->indic-nlp-library) (1.2.4)\n",
            "Requirement already satisfied: snowballstemmer>=1.1 in /usr/local/lib/python3.7/dist-packages (from sphinx>=1.2.0->sphinx-argparse->indic-nlp-library) (2.1.0)\n",
            "Requirement already satisfied: docutils>=0.11 in /usr/local/lib/python3.7/dist-packages (from sphinx>=1.2.0->sphinx-argparse->indic-nlp-library) (0.16)\n",
            "Requirement already satisfied: MarkupSafe>=0.23 in /usr/local/lib/python3.7/dist-packages (from Jinja2>=2.3->sphinx>=1.2.0->sphinx-argparse->indic-nlp-library) (2.0.1)\n",
            "Requirement already satisfied: urllib3!=1.25.0,!=1.25.1,<1.26,>=1.21.1 in /usr/local/lib/python3.7/dist-packages (from requests>=2.0.0->sphinx>=1.2.0->sphinx-argparse->indic-nlp-library) (1.25.11)\n",
            "Requirement already satisfied: certifi>=2017.4.17 in /usr/local/lib/python3.7/dist-packages (from requests>=2.0.0->sphinx>=1.2.0->sphinx-argparse->indic-nlp-library) (2021.5.30)\n",
            "Requirement already satisfied: chardet<4,>=3.0.2 in /usr/local/lib/python3.7/dist-packages (from requests>=2.0.0->sphinx>=1.2.0->sphinx-argparse->indic-nlp-library) (3.0.4)\n",
            "Requirement already satisfied: idna<3,>=2.5 in /usr/local/lib/python3.7/dist-packages (from requests>=2.0.0->sphinx>=1.2.0->sphinx-argparse->indic-nlp-library) (2.10)\n",
            "Requirement already satisfied: pyparsing>=2.0.2 in /usr/local/lib/python3.7/dist-packages (from packaging->sphinx>=1.2.0->sphinx-argparse->indic-nlp-library) (2.4.7)\n",
            "Requirement already satisfied: sphinxcontrib-serializinghtml in /usr/local/lib/python3.7/dist-packages (from sphinxcontrib-websupport->sphinx>=1.2.0->sphinx-argparse->indic-nlp-library) (1.1.5)\n",
            "Obtaining file:///content/fairseq\n",
            "  Installing build dependencies: started\n",
            "  Installing build dependencies: finished with status 'done'\n",
            "  Getting requirements to build wheel: started\n",
            "  Getting requirements to build wheel: finished with status 'done'\n",
            "  Installing backend dependencies: started\n",
            "  Installing backend dependencies: finished with status 'done'\n",
            "    Preparing wheel metadata: started\n",
            "    Preparing wheel metadata: finished with status 'done'\n",
            "Requirement already satisfied: cython in /usr/local/lib/python3.7/dist-packages (from fairseq==1.0.0a0+1f7ef9e) (0.29.24)\n",
            "Requirement already satisfied: hydra-core<1.1,>=1.0.7 in /usr/local/lib/python3.7/dist-packages (from fairseq==1.0.0a0+1f7ef9e) (1.0.7)\n",
            "Requirement already satisfied: regex in /usr/local/lib/python3.7/dist-packages (from fairseq==1.0.0a0+1f7ef9e) (2019.12.20)\n",
            "Requirement already satisfied: sacrebleu>=1.4.12 in /usr/local/lib/python3.7/dist-packages (from fairseq==1.0.0a0+1f7ef9e) (2.0.0)\n",
            "Requirement already satisfied: cffi in /usr/local/lib/python3.7/dist-packages (from fairseq==1.0.0a0+1f7ef9e) (1.14.6)\n",
            "Requirement already satisfied: tqdm in /usr/local/lib/python3.7/dist-packages (from fairseq==1.0.0a0+1f7ef9e) (4.62.0)\n",
            "Requirement already satisfied: torch in /usr/local/lib/python3.7/dist-packages (from fairseq==1.0.0a0+1f7ef9e) (1.9.0+cu102)\n",
            "Requirement already satisfied: numpy in /usr/local/lib/python3.7/dist-packages (from fairseq==1.0.0a0+1f7ef9e) (1.19.5)\n",
            "Requirement already satisfied: omegaconf<2.1 in /usr/local/lib/python3.7/dist-packages (from fairseq==1.0.0a0+1f7ef9e) (2.0.6)\n",
            "Requirement already satisfied: antlr4-python3-runtime==4.8 in /usr/local/lib/python3.7/dist-packages (from hydra-core<1.1,>=1.0.7->fairseq==1.0.0a0+1f7ef9e) (4.8)\n",
            "Requirement already satisfied: importlib-resources in /usr/local/lib/python3.7/dist-packages (from hydra-core<1.1,>=1.0.7->fairseq==1.0.0a0+1f7ef9e) (5.2.2)\n",
            "Requirement already satisfied: typing-extensions in /usr/local/lib/python3.7/dist-packages (from omegaconf<2.1->fairseq==1.0.0a0+1f7ef9e) (3.7.4.3)\n",
            "Requirement already satisfied: PyYAML>=5.1.* in /usr/local/lib/python3.7/dist-packages (from omegaconf<2.1->fairseq==1.0.0a0+1f7ef9e) (5.4.1)\n",
            "Requirement already satisfied: tabulate>=0.8.9 in /usr/local/lib/python3.7/dist-packages (from sacrebleu>=1.4.12->fairseq==1.0.0a0+1f7ef9e) (0.8.9)\n",
            "Requirement already satisfied: portalocker in /usr/local/lib/python3.7/dist-packages (from sacrebleu>=1.4.12->fairseq==1.0.0a0+1f7ef9e) (2.3.0)\n",
            "Requirement already satisfied: colorama in /usr/local/lib/python3.7/dist-packages (from sacrebleu>=1.4.12->fairseq==1.0.0a0+1f7ef9e) (0.4.4)\n",
            "Requirement already satisfied: pycparser in /usr/local/lib/python3.7/dist-packages (from cffi->fairseq==1.0.0a0+1f7ef9e) (2.20)\n",
            "Requirement already satisfied: zipp>=3.1.0 in /usr/local/lib/python3.7/dist-packages (from importlib-resources->hydra-core<1.1,>=1.0.7->fairseq==1.0.0a0+1f7ef9e) (3.5.0)\n",
            "Installing collected packages: fairseq\n",
            "  Running setup.py develop for fairseq\n",
            "Successfully installed fairseq-1.0.0a0+1f7ef9e\n"
          ],
          "name": "stdout"
        },
        {
          "output_type": "stream",
          "text": [
            "Cloning into 'fairseq'...\n",
            "bash: line 7: fg: no job control\n"
          ],
          "name": "stderr"
        }
      ]
    },
    {
      "cell_type": "code",
      "metadata": {
        "id": "Bgd_SddtB1Fd",
        "colab": {
          "base_uri": "https://localhost:8080/"
        },
        "outputId": "bf3f3004-f2b7-461b-ec1a-5301380bc353"
      },
      "source": [
        "# clone the repo for running evaluation\n",
        "!git clone https://github.com/AI4Bharat/indicTrans.git\n",
        "%cd indicTrans\n",
        "# clone requirements repositories\n",
        "!git clone https://github.com/anoopkunchukuttan/indic_nlp_library.git\n",
        "!git clone https://github.com/anoopkunchukuttan/indic_nlp_resources.git\n",
        "!git clone https://github.com/rsennrich/subword-nmt.git\n",
        "%cd .."
      ],
      "execution_count": 3,
      "outputs": [
        {
          "output_type": "stream",
          "text": [
            "fatal: destination path 'indicTrans' already exists and is not an empty directory.\n",
            "/content/indicTrans\n",
            "fatal: destination path 'indic_nlp_library' already exists and is not an empty directory.\n",
            "fatal: destination path 'indic_nlp_resources' already exists and is not an empty directory.\n",
            "fatal: destination path 'subword-nmt' already exists and is not an empty directory.\n",
            "/content\n"
          ],
          "name": "stdout"
        }
      ]
    },
    {
      "cell_type": "code",
      "metadata": {
        "id": "OEO_HZxSIDvy",
        "colab": {
          "base_uri": "https://localhost:8080/"
        },
        "outputId": "2e7b26f2-1827-46e2-bf8d-66cb2a69e662"
      },
      "source": [
        "%%bash\n",
        "# downloading the indic-indic model\n",
        "wget https://storage.googleapis.com/samanantar-public/V0.3/models/indic-en.zip\n",
        "unzip indic-en.zip\n",
        "rm indic-en.zip\n",
        "wget https://storage.googleapis.com/samanantar-public/V0.3/models/m2m.zip\n",
        "unzip m2m.zip\n",
        "rm m2m.zip\n",
        "\n",
        "# %cd indicTrans"
      ],
      "execution_count": 4,
      "outputs": [
        {
          "output_type": "stream",
          "text": [
            "Process is interrupted.\n"
          ],
          "name": "stdout"
        }
      ]
    },
    {
      "cell_type": "code",
      "metadata": {
        "id": "L7GH6IwoSkFa",
        "colab": {
          "base_uri": "https://localhost:8080/"
        },
        "outputId": "80cb69dc-9f66-4c62-f29b-8acad295b37c"
      },
      "source": [
        "!pwd\n",
        "!cp /content/m2m/vocab/bpe_codes.32k.SRC_TGT /content/m2m/vocab/bpe_codes.32k.SRC\n"
      ],
      "execution_count": 5,
      "outputs": [
        {
          "output_type": "stream",
          "text": [
            "/content\n"
          ],
          "name": "stdout"
        }
      ]
    },
    {
      "cell_type": "code",
      "metadata": {
        "id": "62cg57vhfNvX"
      },
      "source": [
        "# !rm indic-en.zip m2m.zip"
      ],
      "execution_count": 6,
      "outputs": []
    },
    {
      "cell_type": "code",
      "metadata": {
        "id": "zhJhyh2GPFuA"
      },
      "source": [
        "import torch\n",
        "import numpy as np\n",
        "import matplotlib.pyplot as plt\n",
        "from transformers import AutoTokenizer, AutoModel\n",
        "import easyocr"
      ],
      "execution_count": 7,
      "outputs": []
    },
    {
      "cell_type": "code",
      "metadata": {
        "id": "98iADWYL3I3Z",
        "colab": {
          "base_uri": "https://localhost:8080/"
        },
        "outputId": "97a87d93-f083-4e60-a8bd-ae58f80a372c"
      },
      "source": [
        "reader = easyocr.Reader(['kn','en']) # need to run only once to load model into memory"
      ],
      "execution_count": 8,
      "outputs": [
        {
          "output_type": "stream",
          "text": [
            "CUDA not available - defaulting to CPU. Note: This module is much faster with a GPU.\n"
          ],
          "name": "stderr"
        }
      ]
    },
    {
      "cell_type": "code",
      "metadata": {
        "id": "NRXzV8Sy4VP8"
      },
      "source": [
        "# from google.colab import drive\n",
        "# drive.mount('/content/gdrive')"
      ],
      "execution_count": 9,
      "outputs": []
    },
    {
      "cell_type": "code",
      "metadata": {
        "id": "7-uaOYWC5BQE"
      },
      "source": [
        "image_root_path = \"/content/drive/MyDrive/Colab Notebooks/\"\n",
        "kannada_img_file = image_root_path + 'kannada_01.jpg'\n",
        "kannada_img_file_1 = '/content/drive/MyDrive/Colab Notebooks/kannada_01.jpg'"
      ],
      "execution_count": 10,
      "outputs": []
    },
    {
      "cell_type": "code",
      "metadata": {
        "id": "IugWk3WK6phD",
        "colab": {
          "base_uri": "https://localhost:8080/"
        },
        "outputId": "c8af5c42-40f4-4e6e-e904-6bd7c6ac6dbc"
      },
      "source": [
        "result = reader.readtext(kannada_img_file, detail = 0)\n",
        "with open('ka.txt', 'w') as f:\n",
        "    f.write(str(result))\n",
        "\n",
        "result"
      ],
      "execution_count": 11,
      "outputs": [
        {
          "output_type": "stream",
          "text": [
            "/usr/local/lib/python3.7/dist-packages/torch/nn/functional.py:718: UserWarning: Named tensors and all their associated APIs are an experimental feature and subject to change. Please do not use them for anything important until they are released as stable. (Triggered internally at  /pytorch/c10/core/TensorImpl.h:1156.)\n",
            "  return torch.max_pool2d(input, kernel_size, stride, padding, dilation, ceil_mode)\n"
          ],
          "name": "stderr"
        },
        {
          "output_type": "execute_result",
          "data": {
            "text/plain": [
              "['|.ಹೊಂದಿಸಿ ಬರೆಯಿರಿ:',\n",
              " '೧.ಕಾಪಾಡು',\n",
              " 'ಹನಿ',\n",
              " '೨',\n",
              " 'ಬುದ್ದಿವಂತ',\n",
              " 'ಸಂರಕ್ಷಿಸು',\n",
              " '೩.ಮಳೆ',\n",
              " 'ಆಸನ',\n",
              " '೪',\n",
              " 'ಬೆಟ್ಟ',\n",
              " 'ರಾಮಕೃಷ್ಣ',\n",
              " '೫ ಪೀಠ',\n",
              " 'ಗುಡ್ಡ',\n",
              " 'Iಆವರಣದಲ್ಲಿ ಕೊಟ್ಟಿರುವ ಸರಿಯಾದ ಉತ್ತರವನ್ನು ಆರಿಸಿ ಬಿಟ್ಟ ಸ್ಥಳದಲ್ಲಿ ಬರೆಯಿರಿ:',\n",
              " '(ಕುವೆಂಪು, ಅಪ್ಪುಗೆ, ಪಂಡಿತರು,',\n",
              " 'ತ,ಮಳೆ',\n",
              " '೧',\n",
              " '.ಕೃಷ್ಣದೇವರಾಯನ ಆಸ್ಥಾನದಲ್ಲಿ',\n",
              " 'ಇದ್ದರು.',\n",
              " '೨.ನೀರಿನ ಮೂಲ',\n",
              " 'ಸಂಸ್ಕೃ ತ']"
            ]
          },
          "metadata": {},
          "execution_count": 11
        }
      ]
    },
    {
      "cell_type": "code",
      "metadata": {
        "id": "tjq244h16Yep"
      },
      "source": [
        "# from transformers import AutoTokenizer, AutoModel\n",
        "  \n",
        "# tokenizer = AutoTokenizer.from_pretrained(\"ai4bharat/indic-bert\", keep_accents=True)\n",
        "\n",
        "# model = AutoModel.from_pretrained(\"ai4bharat/indic-bert\")"
      ],
      "execution_count": 12,
      "outputs": []
    },
    {
      "cell_type": "code",
      "metadata": {
        "id": "FSqFxhFa_C9f"
      },
      "source": [
        "from fairseq import checkpoint_utils, distributed_utils, options, tasks, utils"
      ],
      "execution_count": 13,
      "outputs": []
    },
    {
      "cell_type": "code",
      "metadata": {
        "id": "6laCrqKuCLjx"
      },
      "source": [
        "# !bash ./indicTrans/joint_translate.sh ka.txt en_outputs.txt 'kn' 'en' './indic-en'"
      ],
      "execution_count": 14,
      "outputs": []
    },
    {
      "cell_type": "code",
      "metadata": {
        "id": "52fxyGvQEmna",
        "colab": {
          "base_uri": "https://localhost:8080/"
        },
        "outputId": "0ed24174-2b0a-430f-c4cb-593536497fef"
      },
      "source": [
        "# we need to be in indicTrans directory for translation model to load\n",
        "%cd /content/indicTrans/\n"
      ],
      "execution_count": 15,
      "outputs": [
        {
          "output_type": "stream",
          "text": [
            "/content/indicTrans\n"
          ],
          "name": "stdout"
        }
      ]
    },
    {
      "cell_type": "code",
      "metadata": {
        "id": "Pa1gUjfdFDDh"
      },
      "source": [
        "# !bash joint_translate.sh /content/ka.txt en_outputs.txt 'kn' 'en' '../indic-en'"
      ],
      "execution_count": 16,
      "outputs": []
    },
    {
      "cell_type": "code",
      "metadata": {
        "id": "tvlHgj7eFHaA"
      },
      "source": [
        "# !cat en_outputs.txt"
      ],
      "execution_count": 17,
      "outputs": []
    },
    {
      "cell_type": "code",
      "metadata": {
        "id": "Hh7qxqokF1Nc"
      },
      "source": [
        "# from indicTrans.inference.engine import Model\n",
        "\n",
        "# indic2en_model = Model(expdir='/content/indic-en')\n",
        "# indic2en_model.batch_translate(result, 'kn', 'en')"
      ],
      "execution_count": 18,
      "outputs": []
    },
    {
      "cell_type": "code",
      "metadata": {
        "id": "QUphjMRwHUzs"
      },
      "source": [
        ""
      ],
      "execution_count": 18,
      "outputs": []
    },
    {
      "cell_type": "code",
      "metadata": {
        "id": "6z_NbNAORazg",
        "colab": {
          "base_uri": "https://localhost:8080/"
        },
        "outputId": "1f805788-a753-4caf-ddcc-e305fd760d7f"
      },
      "source": [
        "!pwd"
      ],
      "execution_count": 19,
      "outputs": [
        {
          "output_type": "stream",
          "text": [
            "/content/indicTrans\n"
          ],
          "name": "stdout"
        }
      ]
    },
    {
      "cell_type": "code",
      "metadata": {
        "id": "uuglbhkoRj2N"
      },
      "source": [
        "# !cd .."
      ],
      "execution_count": 20,
      "outputs": []
    },
    {
      "cell_type": "code",
      "metadata": {
        "id": "pvPjpZqxRqv4"
      },
      "source": [
        "!cd \n",
        "!cd /content/indicTrans"
      ],
      "execution_count": 21,
      "outputs": []
    },
    {
      "cell_type": "code",
      "metadata": {
        "id": "bmf94Kr5NzzK",
        "colab": {
          "base_uri": "https://localhost:8080/"
        },
        "outputId": "8d92a90d-f24d-4c6c-b62d-4353ef91e9fe"
      },
      "source": [
        "from indicTrans.inference.engine import Model\n",
        "indicm2m_model = Model(expdir='/content/m2m')\n",
        "indicm2m_model.batch_translate(result, 'kn', 'hi')"
      ],
      "execution_count": 22,
      "outputs": [
        {
          "output_type": "stream",
          "text": [
            "Initializing vocab and bpe\n",
            "Initializing model for translation\n"
          ],
          "name": "stdout"
        },
        {
          "output_type": "stream",
          "text": [
            "100%|██████████| 21/21 [00:00<00:00, 24.82it/s]\n",
            "/usr/local/lib/python3.7/dist-packages/torch/_tensor.py:575: UserWarning: floor_divide is deprecated, and will be removed in a future version of pytorch. It currently rounds toward 0 (like the 'trunc' function NOT 'floor'). This results in incorrect rounding for negative values.\n",
            "To keep the current behavior, use torch.div(a, b, rounding_mode='trunc'), or for actual floor division, use torch.div(a, b, rounding_mode='floor'). (Triggered internally at  /pytorch/aten/src/ATen/native/BinaryOps.cpp:467.)\n",
            "  return torch.floor_divide(self, other)\n"
          ],
          "name": "stderr"
        },
        {
          "output_type": "execute_result",
          "data": {
            "text/plain": [
              "['कृपया इस प्रकार लिखेंः',\n",
              " 'सुरक्षित रखें।',\n",
              " 'बूंद-बूंद',\n",
              " '2 में से',\n",
              " 'बुद्धिमान व्यक्ति',\n",
              " 'इसे सहेजें',\n",
              " 'बारिश',\n",
              " 'सीटों की संख्या',\n",
              " '4 नंबर',\n",
              " 'पर्वत',\n",
              " 'राम कृष्ण',\n",
              " '5 पीठों',\n",
              " 'पर्वतमाला',\n",
              " 'आवरण I में दिए गए सही जवाब को चुनने के स्थान पर लिखेंः',\n",
              " '(शानदार, अप्पू, पंडित,',\n",
              " 'बारिश होती है।',\n",
              " '१. संपर्क',\n",
              " 'श्री कृष्णदेवराय के दरबार में',\n",
              " 'वे मौजूद थे।',\n",
              " 'जल स्रोत',\n",
              " 'संस्कृत']"
            ]
          },
          "metadata": {},
          "execution_count": 22
        }
      ]
    },
    {
      "cell_type": "code",
      "metadata": {
        "id": "aCC479uuveKc"
      },
      "source": [
        "def KannadaImageToHindiText(kannada_img_file):\n",
        "  import torch\n",
        "  import numpy as np\n",
        "  import matplotlib.pyplot as plt  \n",
        "  import easyocr\n",
        "  from fairseq import checkpoint_utils, distributed_utils, options, tasks, utils\n",
        "  from indicTrans.inference.engine import Model\n",
        "\n",
        "  reader = easyocr.Reader(['kn','en']) # need to run only once to load model into memory\n",
        "  result = reader.readtext(kannada_img_file, detail = 0)\n",
        "  indicm2m_model = Model(expdir='/content/m2m')\n",
        "  return indicm2m_model.batch_translate(result, 'kn', 'hi')\n"
      ],
      "execution_count": 23,
      "outputs": []
    },
    {
      "cell_type": "code",
      "metadata": {
        "colab": {
          "base_uri": "https://localhost:8080/",
          "height": 68
        },
        "id": "Hvv9fTj6z_vb",
        "outputId": "cf5bd409-e1ba-4db8-8001-55aec903552f"
      },
      "source": [
        "# KannadaImageToHindiText(kannada_img_file_1)\n",
        "%cd\n",
        "%cd /content/indicTrans/\n",
        "%pwd"
      ],
      "execution_count": 9,
      "outputs": [
        {
          "output_type": "stream",
          "text": [
            "/root\n",
            "/content/indicTrans\n"
          ],
          "name": "stdout"
        },
        {
          "output_type": "execute_result",
          "data": {
            "application/vnd.google.colaboratory.intrinsic+json": {
              "type": "string"
            },
            "text/plain": [
              "'/content/indicTrans'"
            ]
          },
          "metadata": {},
          "execution_count": 9
        }
      ]
    },
    {
      "cell_type": "code",
      "metadata": {
        "id": "8h7JBvtS0FRK"
      },
      "source": [
        "import torch\n",
        "import numpy as np\n",
        "import matplotlib.pyplot as plt  \n",
        "import easyocr\n",
        "from fairseq import checkpoint_utils, distributed_utils, options, tasks, utils\n",
        "from indicTrans.inference.engine import Model\n",
        "\n",
        "class KannadaToHindi :\n",
        "  def __init__(self):\n",
        "    self.reader = easyocr.Reader(['kn','en']) # need to run only once to load model into memory\n",
        "    self.indicm2m_model = Model(expdir='/content/m2m')\n",
        "\n",
        "  def TranslateKannadaImageToHindi(self, kannada_img_file):\n",
        "    result = self.reader.readtext(kannada_img_file, detail = 0)\n",
        "    return self.indicm2m_model.batch_translate(result, 'kn', 'hi')"
      ],
      "execution_count": 10,
      "outputs": []
    },
    {
      "cell_type": "code",
      "metadata": {
        "colab": {
          "base_uri": "https://localhost:8080/"
        },
        "id": "ZaaLw_0E1cDe",
        "outputId": "60f3df03-bd5f-4dd2-8949-bd116035e9c2"
      },
      "source": [
        "traslator = KannadaToHindi()"
      ],
      "execution_count": 11,
      "outputs": [
        {
          "output_type": "stream",
          "text": [
            "CUDA not available - defaulting to CPU. Note: This module is much faster with a GPU.\n"
          ],
          "name": "stderr"
        },
        {
          "output_type": "stream",
          "text": [
            "Initializing vocab and bpe\n",
            "Initializing model for translation\n"
          ],
          "name": "stdout"
        }
      ]
    },
    {
      "cell_type": "code",
      "metadata": {
        "colab": {
          "base_uri": "https://localhost:8080/"
        },
        "id": "mnmfdr2S1nHK",
        "outputId": "955d46c3-94f4-4be6-9caf-7ba42ff9a1aa"
      },
      "source": [
        "kannada_img_file_1 = '/content/drive/MyDrive/Colab Notebooks/kannada_01.jpg'\n",
        "traslator.TranslateKannadaImageToHindi(kannada_img_file_1)"
      ],
      "execution_count": 14,
      "outputs": [
        {
          "output_type": "stream",
          "text": [
            "/usr/local/lib/python3.7/dist-packages/torch/nn/functional.py:718: UserWarning: Named tensors and all their associated APIs are an experimental feature and subject to change. Please do not use them for anything important until they are released as stable. (Triggered internally at  /pytorch/c10/core/TensorImpl.h:1156.)\n",
            "  return torch.max_pool2d(input, kernel_size, stride, padding, dilation, ceil_mode)\n",
            "100%|██████████| 21/21 [00:00<00:00, 9688.75it/s]\n",
            "/usr/local/lib/python3.7/dist-packages/torch/_tensor.py:575: UserWarning: floor_divide is deprecated, and will be removed in a future version of pytorch. It currently rounds toward 0 (like the 'trunc' function NOT 'floor'). This results in incorrect rounding for negative values.\n",
            "To keep the current behavior, use torch.div(a, b, rounding_mode='trunc'), or for actual floor division, use torch.div(a, b, rounding_mode='floor'). (Triggered internally at  /pytorch/aten/src/ATen/native/BinaryOps.cpp:467.)\n",
            "  return torch.floor_divide(self, other)\n"
          ],
          "name": "stderr"
        },
        {
          "output_type": "execute_result",
          "data": {
            "text/plain": [
              "['कृपया इस प्रकार लिखेंः',\n",
              " 'सुरक्षित रखें।',\n",
              " 'बूंद-बूंद',\n",
              " '2 में से',\n",
              " 'बुद्धिमान व्यक्ति',\n",
              " 'इसे सहेजें',\n",
              " 'बारिश',\n",
              " 'सीटों की संख्या',\n",
              " '4 नंबर',\n",
              " 'पर्वत',\n",
              " 'राम कृष्ण',\n",
              " '5 पीठों',\n",
              " 'पर्वतमाला',\n",
              " 'आवरण I में दिए गए सही जवाब को चुनने के स्थान पर लिखेंः',\n",
              " '(शानदार, अप्पू, पंडित,',\n",
              " 'बारिश होती है।',\n",
              " '१. संपर्क',\n",
              " 'श्री कृष्णदेवराय के दरबार में',\n",
              " 'वे मौजूद थे।',\n",
              " 'जल स्रोत',\n",
              " 'संस्कृत']"
            ]
          },
          "metadata": {},
          "execution_count": 14
        }
      ]
    },
    {
      "cell_type": "code",
      "metadata": {
        "id": "qoO2xHCx16Hv"
      },
      "source": [
        ""
      ],
      "execution_count": null,
      "outputs": []
    }
  ]
}