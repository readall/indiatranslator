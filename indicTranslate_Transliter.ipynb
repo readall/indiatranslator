{
  "nbformat": 4,
  "nbformat_minor": 0,
  "metadata": {
    "colab": {
      "name": "indicTranslate.ipynb",
      "provenance": [],
      "collapsed_sections": [],
      "mount_file_id": "1_d-VqqEAdMN9MK8eILnfxXEnuZ6C0MSc",
      "authorship_tag": "ABX9TyN4YRRvjPWKKMhUcScXw6iS",
      "include_colab_link": true
    },
    "kernelspec": {
      "name": "python3",
      "display_name": "Python 3"
    },
    "language_info": {
      "name": "python"
    },
    "accelerator": "GPU"
  },
  "cells": [
    {
      "cell_type": "markdown",
      "metadata": {
        "id": "view-in-github",
        "colab_type": "text"
      },
      "source": [
        "<a href=\"https://colab.research.google.com/github/readall/indiatranslator/blob/main/indicTranslate_Transliter.ipynb\" target=\"_parent\"><img src=\"https://colab.research.google.com/assets/colab-badge.svg\" alt=\"Open In Colab\"/></a>"
      ]
    },
    {
      "cell_type": "code",
      "metadata": {
        "id": "5kh_aJ5Fl0Mz"
      },
      "source": [
        "%%bash\n",
        "rm -rf sample_data\n",
        "rm -rf fairseq\n",
        "rm -rf indicTrans\n",
        "rm indic-en.zip"
      ],
      "execution_count": 1,
      "outputs": []
    },
    {
      "cell_type": "code",
      "metadata": {
        "id": "Cj9kQGm4RKbf",
        "colab": {
          "base_uri": "https://localhost:8080/"
        },
        "outputId": "8387f2d7-e25f-47bb-fd81-771d6e0b6852"
      },
      "source": [
        "%%bash\n",
        "rm -rf sample_data\n",
        "pip install tqdm boto3 requests regex sentencepiece sacremoses transformers easyocr\n",
        "pip install mosestokenizer indic-nlp-library mock sacrebleu tensorboardX pyarrow subword-nmt\n",
        "git clone --depth=1 https://github.com/pytorch/fairseq.git\n",
        "cd fairseq\n",
        "pip install --editable ./\n",
        "%cd ..\n",
        "# pip install fairseq\n"
      ],
      "execution_count": 2,
      "outputs": [
        {
          "output_type": "stream",
          "text": [
            "Requirement already satisfied: tqdm in /usr/local/lib/python3.7/dist-packages (4.62.0)\n",
            "Requirement already satisfied: boto3 in /usr/local/lib/python3.7/dist-packages (1.18.26)\n",
            "Requirement already satisfied: requests in /usr/local/lib/python3.7/dist-packages (2.23.0)\n",
            "Requirement already satisfied: regex in /usr/local/lib/python3.7/dist-packages (2019.12.20)\n",
            "Requirement already satisfied: sentencepiece in /usr/local/lib/python3.7/dist-packages (0.1.96)\n",
            "Requirement already satisfied: sacremoses in /usr/local/lib/python3.7/dist-packages (0.0.45)\n",
            "Requirement already satisfied: transformers in /usr/local/lib/python3.7/dist-packages (4.9.2)\n",
            "Requirement already satisfied: easyocr in /usr/local/lib/python3.7/dist-packages (1.4)\n",
            "Requirement already satisfied: jmespath<1.0.0,>=0.7.1 in /usr/local/lib/python3.7/dist-packages (from boto3) (0.10.0)\n",
            "Requirement already satisfied: s3transfer<0.6.0,>=0.5.0 in /usr/local/lib/python3.7/dist-packages (from boto3) (0.5.0)\n",
            "Requirement already satisfied: botocore<1.22.0,>=1.21.26 in /usr/local/lib/python3.7/dist-packages (from boto3) (1.21.26)\n",
            "Requirement already satisfied: urllib3<1.27,>=1.25.4 in /usr/local/lib/python3.7/dist-packages (from botocore<1.22.0,>=1.21.26->boto3) (1.25.11)\n",
            "Requirement already satisfied: python-dateutil<3.0.0,>=2.1 in /usr/local/lib/python3.7/dist-packages (from botocore<1.22.0,>=1.21.26->boto3) (2.8.2)\n",
            "Requirement already satisfied: six>=1.5 in /usr/local/lib/python3.7/dist-packages (from python-dateutil<3.0.0,>=2.1->botocore<1.22.0,>=1.21.26->boto3) (1.15.0)\n",
            "Requirement already satisfied: certifi>=2017.4.17 in /usr/local/lib/python3.7/dist-packages (from requests) (2021.5.30)\n",
            "Requirement already satisfied: chardet<4,>=3.0.2 in /usr/local/lib/python3.7/dist-packages (from requests) (3.0.4)\n",
            "Requirement already satisfied: idna<3,>=2.5 in /usr/local/lib/python3.7/dist-packages (from requests) (2.10)\n",
            "Requirement already satisfied: click in /usr/local/lib/python3.7/dist-packages (from sacremoses) (7.1.2)\n",
            "Requirement already satisfied: joblib in /usr/local/lib/python3.7/dist-packages (from sacremoses) (1.0.1)\n",
            "Requirement already satisfied: huggingface-hub==0.0.12 in /usr/local/lib/python3.7/dist-packages (from transformers) (0.0.12)\n",
            "Requirement already satisfied: filelock in /usr/local/lib/python3.7/dist-packages (from transformers) (3.0.12)\n",
            "Requirement already satisfied: tokenizers<0.11,>=0.10.1 in /usr/local/lib/python3.7/dist-packages (from transformers) (0.10.3)\n",
            "Requirement already satisfied: numpy>=1.17 in /usr/local/lib/python3.7/dist-packages (from transformers) (1.19.5)\n",
            "Requirement already satisfied: importlib-metadata in /usr/local/lib/python3.7/dist-packages (from transformers) (4.6.4)\n",
            "Requirement already satisfied: packaging in /usr/local/lib/python3.7/dist-packages (from transformers) (21.0)\n",
            "Requirement already satisfied: pyyaml>=5.1 in /usr/local/lib/python3.7/dist-packages (from transformers) (5.4.1)\n",
            "Requirement already satisfied: typing-extensions in /usr/local/lib/python3.7/dist-packages (from huggingface-hub==0.0.12->transformers) (3.7.4.3)\n",
            "Requirement already satisfied: pyparsing>=2.0.2 in /usr/local/lib/python3.7/dist-packages (from packaging->transformers) (2.4.7)\n",
            "Requirement already satisfied: torch in /usr/local/lib/python3.7/dist-packages (from easyocr) (1.9.0+cu102)\n",
            "Requirement already satisfied: opencv-python in /usr/local/lib/python3.7/dist-packages (from easyocr) (4.1.2.30)\n",
            "Requirement already satisfied: python-bidi in /usr/local/lib/python3.7/dist-packages (from easyocr) (0.4.2)\n",
            "Requirement already satisfied: torchvision>=0.5 in /usr/local/lib/python3.7/dist-packages (from easyocr) (0.10.0+cu102)\n",
            "Requirement already satisfied: Pillow in /usr/local/lib/python3.7/dist-packages (from easyocr) (7.1.2)\n",
            "Requirement already satisfied: scikit-image in /usr/local/lib/python3.7/dist-packages (from easyocr) (0.16.2)\n",
            "Requirement already satisfied: scipy in /usr/local/lib/python3.7/dist-packages (from easyocr) (1.4.1)\n",
            "Requirement already satisfied: zipp>=0.5 in /usr/local/lib/python3.7/dist-packages (from importlib-metadata->transformers) (3.5.0)\n",
            "Requirement already satisfied: imageio>=2.3.0 in /usr/local/lib/python3.7/dist-packages (from scikit-image->easyocr) (2.4.1)\n",
            "Requirement already satisfied: networkx>=2.0 in /usr/local/lib/python3.7/dist-packages (from scikit-image->easyocr) (2.6.2)\n",
            "Requirement already satisfied: matplotlib!=3.0.0,>=2.0.0 in /usr/local/lib/python3.7/dist-packages (from scikit-image->easyocr) (3.2.2)\n",
            "Requirement already satisfied: PyWavelets>=0.4.0 in /usr/local/lib/python3.7/dist-packages (from scikit-image->easyocr) (1.1.1)\n",
            "Requirement already satisfied: cycler>=0.10 in /usr/local/lib/python3.7/dist-packages (from matplotlib!=3.0.0,>=2.0.0->scikit-image->easyocr) (0.10.0)\n",
            "Requirement already satisfied: kiwisolver>=1.0.1 in /usr/local/lib/python3.7/dist-packages (from matplotlib!=3.0.0,>=2.0.0->scikit-image->easyocr) (1.3.1)\n",
            "Requirement already satisfied: mosestokenizer in /usr/local/lib/python3.7/dist-packages (1.1.0)\n",
            "Requirement already satisfied: indic-nlp-library in /usr/local/lib/python3.7/dist-packages (0.81)\n",
            "Requirement already satisfied: mock in /usr/local/lib/python3.7/dist-packages (4.0.3)\n",
            "Requirement already satisfied: sacrebleu in /usr/local/lib/python3.7/dist-packages (2.0.0)\n",
            "Requirement already satisfied: tensorboardX in /usr/local/lib/python3.7/dist-packages (2.4)\n",
            "Requirement already satisfied: pyarrow in /usr/local/lib/python3.7/dist-packages (3.0.0)\n",
            "Requirement already satisfied: subword-nmt in /usr/local/lib/python3.7/dist-packages (0.3.7)\n",
            "Requirement already satisfied: docopt in /usr/local/lib/python3.7/dist-packages (from mosestokenizer) (0.6.2)\n",
            "Requirement already satisfied: toolwrapper in /usr/local/lib/python3.7/dist-packages (from mosestokenizer) (2.1.0)\n",
            "Requirement already satisfied: uctools in /usr/local/lib/python3.7/dist-packages (from mosestokenizer) (1.3.0)\n",
            "Requirement already satisfied: openfile in /usr/local/lib/python3.7/dist-packages (from mosestokenizer) (0.0.7)\n",
            "Requirement already satisfied: pandas in /usr/local/lib/python3.7/dist-packages (from indic-nlp-library) (1.1.5)\n",
            "Requirement already satisfied: morfessor in /usr/local/lib/python3.7/dist-packages (from indic-nlp-library) (2.0.6)\n",
            "Requirement already satisfied: sphinx-rtd-theme in /usr/local/lib/python3.7/dist-packages (from indic-nlp-library) (0.5.2)\n",
            "Requirement already satisfied: numpy in /usr/local/lib/python3.7/dist-packages (from indic-nlp-library) (1.19.5)\n",
            "Requirement already satisfied: sphinx-argparse in /usr/local/lib/python3.7/dist-packages (from indic-nlp-library) (0.2.5)\n",
            "Requirement already satisfied: portalocker in /usr/local/lib/python3.7/dist-packages (from sacrebleu) (2.3.1)\n",
            "Requirement already satisfied: colorama in /usr/local/lib/python3.7/dist-packages (from sacrebleu) (0.4.4)\n",
            "Requirement already satisfied: regex in /usr/local/lib/python3.7/dist-packages (from sacrebleu) (2019.12.20)\n",
            "Requirement already satisfied: tabulate>=0.8.9 in /usr/local/lib/python3.7/dist-packages (from sacrebleu) (0.8.9)\n",
            "Requirement already satisfied: protobuf>=3.8.0 in /usr/local/lib/python3.7/dist-packages (from tensorboardX) (3.17.3)\n",
            "Requirement already satisfied: six>=1.9 in /usr/local/lib/python3.7/dist-packages (from protobuf>=3.8.0->tensorboardX) (1.15.0)\n",
            "Requirement already satisfied: python-dateutil>=2.7.3 in /usr/local/lib/python3.7/dist-packages (from pandas->indic-nlp-library) (2.8.2)\n",
            "Requirement already satisfied: pytz>=2017.2 in /usr/local/lib/python3.7/dist-packages (from pandas->indic-nlp-library) (2018.9)\n",
            "Requirement already satisfied: sphinx>=1.2.0 in /usr/local/lib/python3.7/dist-packages (from sphinx-argparse->indic-nlp-library) (1.8.5)\n",
            "Requirement already satisfied: requests>=2.0.0 in /usr/local/lib/python3.7/dist-packages (from sphinx>=1.2.0->sphinx-argparse->indic-nlp-library) (2.23.0)\n",
            "Requirement already satisfied: imagesize in /usr/local/lib/python3.7/dist-packages (from sphinx>=1.2.0->sphinx-argparse->indic-nlp-library) (1.2.0)\n",
            "Requirement already satisfied: Jinja2>=2.3 in /usr/local/lib/python3.7/dist-packages (from sphinx>=1.2.0->sphinx-argparse->indic-nlp-library) (2.11.3)\n",
            "Requirement already satisfied: Pygments>=2.0 in /usr/local/lib/python3.7/dist-packages (from sphinx>=1.2.0->sphinx-argparse->indic-nlp-library) (2.6.1)\n",
            "Requirement already satisfied: setuptools in /usr/local/lib/python3.7/dist-packages (from sphinx>=1.2.0->sphinx-argparse->indic-nlp-library) (57.4.0)\n",
            "Requirement already satisfied: sphinxcontrib-websupport in /usr/local/lib/python3.7/dist-packages (from sphinx>=1.2.0->sphinx-argparse->indic-nlp-library) (1.2.4)\n",
            "Requirement already satisfied: packaging in /usr/local/lib/python3.7/dist-packages (from sphinx>=1.2.0->sphinx-argparse->indic-nlp-library) (21.0)\n",
            "Requirement already satisfied: snowballstemmer>=1.1 in /usr/local/lib/python3.7/dist-packages (from sphinx>=1.2.0->sphinx-argparse->indic-nlp-library) (2.1.0)\n",
            "Requirement already satisfied: babel!=2.0,>=1.3 in /usr/local/lib/python3.7/dist-packages (from sphinx>=1.2.0->sphinx-argparse->indic-nlp-library) (2.9.1)\n",
            "Requirement already satisfied: alabaster<0.8,>=0.7 in /usr/local/lib/python3.7/dist-packages (from sphinx>=1.2.0->sphinx-argparse->indic-nlp-library) (0.7.12)\n",
            "Requirement already satisfied: docutils>=0.11 in /usr/local/lib/python3.7/dist-packages (from sphinx>=1.2.0->sphinx-argparse->indic-nlp-library) (0.16)\n",
            "Requirement already satisfied: MarkupSafe>=0.23 in /usr/local/lib/python3.7/dist-packages (from Jinja2>=2.3->sphinx>=1.2.0->sphinx-argparse->indic-nlp-library) (2.0.1)\n",
            "Requirement already satisfied: chardet<4,>=3.0.2 in /usr/local/lib/python3.7/dist-packages (from requests>=2.0.0->sphinx>=1.2.0->sphinx-argparse->indic-nlp-library) (3.0.4)\n",
            "Requirement already satisfied: urllib3!=1.25.0,!=1.25.1,<1.26,>=1.21.1 in /usr/local/lib/python3.7/dist-packages (from requests>=2.0.0->sphinx>=1.2.0->sphinx-argparse->indic-nlp-library) (1.25.11)\n",
            "Requirement already satisfied: certifi>=2017.4.17 in /usr/local/lib/python3.7/dist-packages (from requests>=2.0.0->sphinx>=1.2.0->sphinx-argparse->indic-nlp-library) (2021.5.30)\n",
            "Requirement already satisfied: idna<3,>=2.5 in /usr/local/lib/python3.7/dist-packages (from requests>=2.0.0->sphinx>=1.2.0->sphinx-argparse->indic-nlp-library) (2.10)\n",
            "Requirement already satisfied: pyparsing>=2.0.2 in /usr/local/lib/python3.7/dist-packages (from packaging->sphinx>=1.2.0->sphinx-argparse->indic-nlp-library) (2.4.7)\n",
            "Requirement already satisfied: sphinxcontrib-serializinghtml in /usr/local/lib/python3.7/dist-packages (from sphinxcontrib-websupport->sphinx>=1.2.0->sphinx-argparse->indic-nlp-library) (1.1.5)\n",
            "Obtaining file:///content/fairseq\n",
            "  Installing build dependencies: started\n",
            "  Installing build dependencies: finished with status 'done'\n",
            "  Getting requirements to build wheel: started\n",
            "  Getting requirements to build wheel: finished with status 'done'\n",
            "  Installing backend dependencies: started\n",
            "  Installing backend dependencies: finished with status 'done'\n",
            "    Preparing wheel metadata: started\n",
            "    Preparing wheel metadata: finished with status 'done'\n",
            "Requirement already satisfied: sacrebleu>=1.4.12 in /usr/local/lib/python3.7/dist-packages (from fairseq==1.0.0a0+1f7ef9e) (2.0.0)\n",
            "Requirement already satisfied: numpy in /usr/local/lib/python3.7/dist-packages (from fairseq==1.0.0a0+1f7ef9e) (1.19.5)\n",
            "Requirement already satisfied: tqdm in /usr/local/lib/python3.7/dist-packages (from fairseq==1.0.0a0+1f7ef9e) (4.62.0)\n",
            "Requirement already satisfied: cython in /usr/local/lib/python3.7/dist-packages (from fairseq==1.0.0a0+1f7ef9e) (0.29.24)\n",
            "Requirement already satisfied: omegaconf<2.1 in /usr/local/lib/python3.7/dist-packages (from fairseq==1.0.0a0+1f7ef9e) (2.0.6)\n",
            "Requirement already satisfied: regex in /usr/local/lib/python3.7/dist-packages (from fairseq==1.0.0a0+1f7ef9e) (2019.12.20)\n",
            "Requirement already satisfied: cffi in /usr/local/lib/python3.7/dist-packages (from fairseq==1.0.0a0+1f7ef9e) (1.14.6)\n",
            "Requirement already satisfied: hydra-core<1.1,>=1.0.7 in /usr/local/lib/python3.7/dist-packages (from fairseq==1.0.0a0+1f7ef9e) (1.0.7)\n",
            "Requirement already satisfied: torch in /usr/local/lib/python3.7/dist-packages (from fairseq==1.0.0a0+1f7ef9e) (1.9.0+cu102)\n",
            "Requirement already satisfied: importlib-resources in /usr/local/lib/python3.7/dist-packages (from hydra-core<1.1,>=1.0.7->fairseq==1.0.0a0+1f7ef9e) (5.2.2)\n",
            "Requirement already satisfied: antlr4-python3-runtime==4.8 in /usr/local/lib/python3.7/dist-packages (from hydra-core<1.1,>=1.0.7->fairseq==1.0.0a0+1f7ef9e) (4.8)\n",
            "Requirement already satisfied: PyYAML>=5.1.* in /usr/local/lib/python3.7/dist-packages (from omegaconf<2.1->fairseq==1.0.0a0+1f7ef9e) (5.4.1)\n",
            "Requirement already satisfied: typing-extensions in /usr/local/lib/python3.7/dist-packages (from omegaconf<2.1->fairseq==1.0.0a0+1f7ef9e) (3.7.4.3)\n",
            "Requirement already satisfied: colorama in /usr/local/lib/python3.7/dist-packages (from sacrebleu>=1.4.12->fairseq==1.0.0a0+1f7ef9e) (0.4.4)\n",
            "Requirement already satisfied: portalocker in /usr/local/lib/python3.7/dist-packages (from sacrebleu>=1.4.12->fairseq==1.0.0a0+1f7ef9e) (2.3.1)\n",
            "Requirement already satisfied: tabulate>=0.8.9 in /usr/local/lib/python3.7/dist-packages (from sacrebleu>=1.4.12->fairseq==1.0.0a0+1f7ef9e) (0.8.9)\n",
            "Requirement already satisfied: pycparser in /usr/local/lib/python3.7/dist-packages (from cffi->fairseq==1.0.0a0+1f7ef9e) (2.20)\n",
            "Requirement already satisfied: zipp>=3.1.0 in /usr/local/lib/python3.7/dist-packages (from importlib-resources->hydra-core<1.1,>=1.0.7->fairseq==1.0.0a0+1f7ef9e) (3.5.0)\n",
            "Installing collected packages: fairseq\n",
            "  Running setup.py develop for fairseq\n",
            "Successfully installed fairseq-1.0.0a0+1f7ef9e\n"
          ],
          "name": "stdout"
        },
        {
          "output_type": "stream",
          "text": [
            "Cloning into 'fairseq'...\n",
            "bash: line 7: fg: no job control\n"
          ],
          "name": "stderr"
        }
      ]
    },
    {
      "cell_type": "code",
      "metadata": {
        "id": "Bgd_SddtB1Fd",
        "colab": {
          "base_uri": "https://localhost:8080/"
        },
        "outputId": "cda92c0f-efad-46f7-a3cc-9d22518add58"
      },
      "source": [
        "# clone the repo for running evaluation\n",
        "!git clone --depth=1 https://github.com/AI4Bharat/indicTrans.git\n",
        "%cd indicTrans\n",
        "# clone requirements repositories\n",
        "!git clone --depth=1 https://github.com/anoopkunchukuttan/indic_nlp_library.git\n",
        "!git clone --depth=1 https://github.com/anoopkunchukuttan/indic_nlp_resources.git\n",
        "!git clone --depth=1 https://github.com/rsennrich/subword-nmt.git\n",
        "%cd .."
      ],
      "execution_count": 3,
      "outputs": [
        {
          "output_type": "stream",
          "text": [
            "Cloning into 'indicTrans'...\n",
            "remote: Enumerating objects: 45, done.\u001b[K\n",
            "remote: Counting objects: 100% (45/45), done.\u001b[K\n",
            "remote: Compressing objects: 100% (42/42), done.\u001b[K\n",
            "remote: Total 45 (delta 9), reused 14 (delta 1), pack-reused 0\u001b[K\n",
            "Unpacking objects: 100% (45/45), done.\n",
            "/content/indicTrans\n",
            "Cloning into 'indic_nlp_library'...\n",
            "remote: Enumerating objects: 77, done.\u001b[K\n",
            "remote: Counting objects: 100% (77/77), done.\u001b[K\n",
            "remote: Compressing objects: 100% (71/71), done.\u001b[K\n",
            "remote: Total 77 (delta 5), reused 46 (delta 1), pack-reused 0\u001b[K\n",
            "Unpacking objects: 100% (77/77), done.\n",
            "Cloning into 'indic_nlp_resources'...\n",
            "remote: Enumerating objects: 33, done.\u001b[K\n",
            "remote: Counting objects: 100% (33/33), done.\u001b[K\n",
            "remote: Compressing objects: 100% (31/31), done.\u001b[K\n",
            "remote: Total 33 (delta 3), reused 18 (delta 1), pack-reused 0\u001b[K\n",
            "Unpacking objects: 100% (33/33), done.\n",
            "Checking out files: 100% (28/28), done.\n",
            "Cloning into 'subword-nmt'...\n",
            "remote: Enumerating objects: 32, done.\u001b[K\n",
            "remote: Counting objects: 100% (32/32), done.\u001b[K\n",
            "remote: Compressing objects: 100% (24/24), done.\u001b[K\n",
            "remote: Total 32 (delta 2), reused 15 (delta 0), pack-reused 0\u001b[K\n",
            "Unpacking objects: 100% (32/32), done.\n",
            "/content\n"
          ],
          "name": "stdout"
        }
      ]
    },
    {
      "cell_type": "code",
      "metadata": {
        "id": "OEO_HZxSIDvy",
        "colab": {
          "base_uri": "https://localhost:8080/"
        },
        "outputId": "f142c3bb-c302-49c6-a8b0-223f9c93f300"
      },
      "source": [
        "%%bash\n",
        "# downloading the indic-indic model\n",
        "wget https://storage.googleapis.com/samanantar-public/V0.3/models/indic-en.zip\n",
        "unzip indic-en.zip\n",
        "rm indic-en.zip\n",
        "wget https://storage.googleapis.com/samanantar-public/V0.3/models/m2m.zip\n",
        "unzip m2m.zip\n",
        "rm m2m.zip\n",
        "\n",
        "# %cd indicTrans"
      ],
      "execution_count": 4,
      "outputs": [
        {
          "output_type": "stream",
          "text": [
            "Archive:  indic-en.zip\n",
            "   creating: indic-en/\n",
            "   creating: indic-en/vocab/\n",
            "  inflating: indic-en/vocab/bpe_codes.32k.SRC  \n",
            "  inflating: indic-en/vocab/vocab.SRC  \n",
            "  inflating: indic-en/vocab/vocab.TGT  \n",
            "  inflating: indic-en/vocab/bpe_codes.32k.TGT  \n",
            "   creating: indic-en/final_bin/\n",
            "  inflating: indic-en/final_bin/preprocess.log  \n",
            "  inflating: indic-en/final_bin/dict.TGT.txt  \n",
            "  inflating: indic-en/final_bin/test.SRC-TGT.SRC.idx  \n",
            "  inflating: indic-en/final_bin/test.SRC-TGT.TGT.idx  \n",
            "  inflating: indic-en/final_bin/train.SRC-TGT.SRC.idx  \n",
            "  inflating: indic-en/final_bin/dict.SRC.txt  \n",
            "  inflating: indic-en/final_bin/valid.SRC-TGT.TGT.idx  \n",
            "  inflating: indic-en/final_bin/test.SRC-TGT.TGT.bin  \n",
            "  inflating: indic-en/final_bin/valid.SRC-TGT.TGT.bin  \n",
            "  inflating: indic-en/final_bin/train.SRC-TGT.TGT.idx  \n",
            "  inflating: indic-en/final_bin/train.SRC-TGT.TGT.bin  \n",
            "  inflating: indic-en/final_bin/valid.SRC-TGT.SRC.idx  \n",
            "  inflating: indic-en/final_bin/train.SRC-TGT.SRC.bin  \n",
            "  inflating: indic-en/final_bin/valid.SRC-TGT.SRC.bin  \n",
            "  inflating: indic-en/final_bin/test.SRC-TGT.SRC.bin  \n",
            "   creating: indic-en/model/\n",
            "  inflating: indic-en/model/checkpoint_best.pt  \n",
            "Archive:  m2m.zip\n",
            "   creating: m2m/\n",
            "   creating: m2m/vocab/\n",
            "  inflating: m2m/vocab/vocab.SRC     \n",
            "  inflating: m2m/vocab/vocab.TGT     \n",
            "  inflating: m2m/vocab/bpe_codes.32k.SRC_TGT  \n",
            "   creating: m2m/final_bin/\n",
            "  inflating: m2m/final_bin/dict.TGT.txt  \n",
            "  inflating: m2m/final_bin/dict.SRC.txt  \n",
            "   creating: m2m/model/\n",
            "  inflating: m2m/model/checkpoint_best.pt  \n"
          ],
          "name": "stdout"
        },
        {
          "output_type": "stream",
          "text": [
            "IOPub data rate exceeded.\n",
            "The notebook server will temporarily stop sending output\n",
            "to the client in order to avoid crashing it.\n",
            "To change this limit, set the config variable\n",
            "`--NotebookApp.iopub_data_rate_limit`.\n",
            "\n",
            "Current values:\n",
            "NotebookApp.iopub_data_rate_limit=1000000.0 (bytes/sec)\n",
            "NotebookApp.rate_limit_window=3.0 (secs)\n",
            "\n"
          ],
          "name": "stderr"
        }
      ]
    },
    {
      "cell_type": "code",
      "metadata": {
        "id": "L7GH6IwoSkFa",
        "colab": {
          "base_uri": "https://localhost:8080/"
        },
        "outputId": "26df6619-e43b-47a3-ec70-f0d208d5644a"
      },
      "source": [
        "!pwd\n",
        "!cp /content/m2m/vocab/bpe_codes.32k.SRC_TGT /content/m2m/vocab/bpe_codes.32k.SRC\n"
      ],
      "execution_count": 6,
      "outputs": [
        {
          "output_type": "stream",
          "text": [
            "/content/indicTrans\n"
          ],
          "name": "stdout"
        }
      ]
    },
    {
      "cell_type": "code",
      "metadata": {
        "id": "Y3ODkLZn70ra",
        "colab": {
          "base_uri": "https://localhost:8080/"
        },
        "outputId": "ee237048-fe56-4441-a2b6-cd8764f378fc"
      },
      "source": [
        "%%bash\n",
        "apt-get install python-numpy libicu-dev\n",
        "pip install pyicu pycld2 morfessor \n",
        "pip install polyglot\n"
      ],
      "execution_count": 7,
      "outputs": [
        {
          "output_type": "stream",
          "text": [
            "Reading package lists...\n",
            "Building dependency tree...\n",
            "Reading state information...\n",
            "python-numpy is already the newest version (1:1.13.3-2ubuntu1).\n",
            "libicu-dev is already the newest version (60.2-3ubuntu3.1).\n",
            "The following package was automatically installed and is no longer required:\n",
            "  libnvidia-common-460\n",
            "Use 'apt autoremove' to remove it.\n",
            "0 upgraded, 0 newly installed, 0 to remove and 40 not upgraded.\n",
            "Requirement already satisfied: pyicu in /usr/local/lib/python3.7/dist-packages (2.7.4)\n",
            "Requirement already satisfied: pycld2 in /usr/local/lib/python3.7/dist-packages (0.41)\n",
            "Requirement already satisfied: morfessor in /usr/local/lib/python3.7/dist-packages (2.0.6)\n",
            "Requirement already satisfied: polyglot in /usr/local/lib/python3.7/dist-packages (16.7.4)\n"
          ],
          "name": "stdout"
        }
      ]
    },
    {
      "cell_type": "code",
      "metadata": {
        "colab": {
          "base_uri": "https://localhost:8080/"
        },
        "id": "6xm_h0nvGBVO",
        "outputId": "96683529-a85d-489d-fbeb-2931c25cb34e"
      },
      "source": [
        "!polyglot download embeddings2.en transliteration2.hi\n",
        "!polyglot download transliteration2.kn"
      ],
      "execution_count": 1,
      "outputs": [
        {
          "output_type": "stream",
          "text": [
            "[polyglot_data] Downloading package embeddings2.en to\n",
            "[polyglot_data]     /root/polyglot_data...\n",
            "[polyglot_data]   Package embeddings2.en is already up-to-date!\n",
            "[polyglot_data] Downloading package transliteration2.hi to\n",
            "[polyglot_data]     /root/polyglot_data...\n",
            "[polyglot_data] Downloading package transliteration2.kn to\n",
            "[polyglot_data]     /root/polyglot_data...\n",
            "[polyglot_data]   Package transliteration2.kn is already up-to-date!\n"
          ],
          "name": "stdout"
        }
      ]
    },
    {
      "cell_type": "code",
      "metadata": {
        "id": "52fxyGvQEmna",
        "colab": {
          "base_uri": "https://localhost:8080/",
          "height": 68
        },
        "outputId": "b59e2022-1756-4fb8-d6f3-a9149b97edb9"
      },
      "source": [
        "# we need to be in indicTrans directory for translation model to load\n",
        "%pwd\n",
        "%cd\n",
        "%cd /content/indicTrans/\n",
        "%pwd"
      ],
      "execution_count": 3,
      "outputs": [
        {
          "output_type": "stream",
          "text": [
            "/root\n",
            "/content/indicTrans\n"
          ],
          "name": "stdout"
        },
        {
          "output_type": "execute_result",
          "data": {
            "application/vnd.google.colaboratory.intrinsic+json": {
              "type": "string"
            },
            "text/plain": [
              "'/content/indicTrans'"
            ]
          },
          "metadata": {},
          "execution_count": 3
        }
      ]
    },
    {
      "cell_type": "code",
      "metadata": {
        "id": "DtdCYw-mRpFR"
      },
      "source": [
        "import torch\n",
        "import numpy as np\n",
        "import matplotlib.pyplot as plt  \n",
        "import easyocr\n",
        "from fairseq import checkpoint_utils, distributed_utils, options, tasks, utils\n",
        "from indicTrans.inference.engine import Model\n",
        "from polyglot.text import Text\n",
        "\n",
        "class KannadaToHindi :\n",
        "  def __init__(self):\n",
        "    self.reader = easyocr.Reader(['kn','en']) # need to run only once to load model into memory\n",
        "    self.indicm2m_model = Model(expdir='/content/m2m')\n",
        "\n",
        "\n",
        "  def getTextFromImage(self, image_file):\n",
        "    reader = easyocr.Reader(['kn','en']) # need to run only once to load model into memory\n",
        "    result = reader.readtext(image_file, detail = 0)\n",
        "    return result\n",
        "\n",
        "  def cleanTransliterText(self, transliter_text):\n",
        "    blank = ['',\"\", \" \", ' ', '\\t']\n",
        "    s_list = []\n",
        "    for x in transliter_text:\n",
        "      if x not in blank:\n",
        "        s_list.append(x)\n",
        "    return s_list\n",
        "\n",
        "  def getTransliterredText(self,text_from_image):\n",
        "    image_text = str(text_from_image)\n",
        "    text = Text(image_text)\n",
        "    transliter_text = text.transliterate(\"hi\")\n",
        "    trans_str = \" \".join(self.cleanTransliterText(transliter_text))\n",
        "    return trans_str\n",
        "\n",
        "  def TranslateKannadaImageToHindi(self, kannada_img_file):\n",
        "    text_from_image = self.reader.readtext(kannada_img_file, detail = 0)\n",
        "    transliterred_result = self.getTransliterredText(text_from_image)\n",
        "    translated_result = self.indicm2m_model.batch_translate(text_from_image, 'kn', 'hi')\n",
        "    return translated_result, transliterred_result\n"
      ],
      "execution_count": 4,
      "outputs": []
    },
    {
      "cell_type": "code",
      "metadata": {
        "colab": {
          "base_uri": "https://localhost:8080/"
        },
        "id": "mnmfdr2S1nHK",
        "outputId": "71aa28e3-bb38-4ac8-ac56-1fa4235bc91e"
      },
      "source": [
        "kannada_img_file = '/content/drive/MyDrive/Colab Notebooks/kannada_01.jpg'\n",
        "transcode = KannadaToHindi()\n",
        "translated, translittered = transcode.TranslateKannadaImageToHindi(kannada_img_file)\n",
        "print(translittered)\n",
        "print(translated)"
      ],
      "execution_count": 5,
      "outputs": [
        {
          "output_type": "stream",
          "text": [
            "Initializing vocab and bpe\n",
            "Initializing model for translation\n"
          ],
          "name": "stdout"
        },
        {
          "output_type": "stream",
          "text": [
            "/usr/local/lib/python3.7/dist-packages/torch/nn/functional.py:718: UserWarning: Named tensors and all their associated APIs are an experimental feature and subject to change. Please do not use them for anything important until they are released as stable. (Triggered internally at  /pytorch/c10/core/TensorImpl.h:1156.)\n",
            "  return torch.max_pool2d(input, kernel_size, stride, padding, dilation, ceil_mode)\n",
            "100%|██████████| 21/21 [00:00<00:00, 19744.54it/s]\n",
            "/usr/local/lib/python3.7/dist-packages/torch/_tensor.py:575: UserWarning: floor_divide is deprecated, and will be removed in a future version of pytorch. It currently rounds toward 0 (like the 'trunc' function NOT 'floor'). This results in incorrect rounding for negative values.\n",
            "To keep the current behavior, use torch.div(a, b, rounding_mode='trunc'), or for actual floor division, use torch.div(a, b, rounding_mode='floor'). (Triggered internally at  /pytorch/aten/src/ATen/native/BinaryOps.cpp:467.)\n",
            "  return torch.floor_divide(self, other)\n"
          ],
          "name": "stderr"
        },
        {
          "output_type": "stream",
          "text": [
            "होनदीसि बरेािरि कापादु हनि बुददीवंट सनरकसहिसु मले ासन बेट रामकृष्ण गुदद कोटिरुव सरियाद ारीसि बिट सथल्डलली बरेािरि कुवेनपु ापपुगे पंडितरु त मले कृष्णदेवराान ासथॉहदलली िददरु निरिन मुल त\n",
            "['कृपया इस प्रकार लिखेंः', 'सुरक्षित रखें।', 'बूंद-बूंद', '2 में से', 'बुद्धिमान व्यक्ति', 'इसे सहेजें', 'बारिश', 'सीटों की संख्या', '4 नंबर', 'पर्वत', 'राम कृष्ण', 'पीठ', 'पर्वतमाला', 'सही जवाब चुनने के लिए नीचे दिए गए पते पर लिखेंः', '(शानदार, अप्पू, पंडित,', 'बारिश होती है।', '१. संपर्क', 'श्री कृष्णदेवराय के दरबार में', 'वे मौजूद थे।', 'जल स्रोत', 'संस्कृत']\n"
          ],
          "name": "stdout"
        }
      ]
    },
    {
      "cell_type": "code",
      "metadata": {
        "colab": {
          "base_uri": "https://localhost:8080/"
        },
        "id": "qoO2xHCx16Hv",
        "outputId": "8ec84698-a460-43a4-c549-bc9f58531666"
      },
      "source": [
        "kannada_img_file = '/content/drive/MyDrive/Colab Notebooks/kannada_02.jpg'\n",
        "# transcode = KannadaToHindi()\n",
        "translated, translittered = transcode.TranslateKannadaImageToHindi(kannada_img_file)\n",
        "print(translittered)\n",
        "print(translated)"
      ],
      "execution_count": 6,
      "outputs": [
        {
          "output_type": "stream",
          "text": [
            "100%|██████████| 9/9 [00:00<00:00, 8149.55it/s]\n"
          ],
          "name": "stderr"
        },
        {
          "output_type": "stream",
          "text": [
            "केुतिरुव सरियाद ारीसि खअली बिट सथल्डलली बरेािरि कुवेनपु ापपुगे पंडितरु मले क ृष्णदेवराान ासथॉहदलली पंडितरु िददरु निरिन मुल मले कनंडामम न हरके पडीावननु बरेदवरु कुवेनपु ालिंगन पदद ार्थ ापपुगे\n",
            "['परिसर में दी गई सही जानकारी', 'जवाब चुनें और खाली स्थान पर लिखेंः', '(शानदार, अप्पू, पंडित, संस्कृत, वर्षा)', '1. क.', 'विद्वान भगवान वेंकटेश्वर के दरबार में मौजूद थे।', 'जल स्रोत वर्षा', '3 नहीं', 'उन्होंने कहा कि कन्नड़ कविता की रचना बेहतरीन है।', 'आलिंगन शब्द का अर्थ है कर्ज लेना।']\n"
          ],
          "name": "stdout"
        }
      ]
    },
    {
      "cell_type": "code",
      "metadata": {
        "colab": {
          "base_uri": "https://localhost:8080/"
        },
        "id": "SF5OAAsT5msc",
        "outputId": "d4aaf416-904f-4978-fe66-f036498d9c59"
      },
      "source": [
        "kannada_img_file = '/content/drive/MyDrive/Colab Notebooks/kannada_03.jpg'\n",
        "# transcode = KannadaToHindi()\n",
        "translated, translittered = transcode.TranslateKannadaImageToHindi(kannada_img_file)\n",
        "print(translittered)\n",
        "print(translated)"
      ],
      "execution_count": 7,
      "outputs": [
        {
          "output_type": "stream",
          "text": [
            "100%|██████████| 16/16 [00:00<00:00, 16644.06it/s]\n"
          ],
          "name": "stderr"
        },
        {
          "output_type": "stream",
          "text": [
            "वाकयादलली बिसिल निरु निरु ावियााितु मोद ावाग भारवााितु ावि तनिदु भारवााितु विदासागरनोंडिगे वाद मदलु ारु विदासागरनोंडिगे वाद मदलु टेनाली रामकृष्ण टेनाली रामकृष्ण वादकके ाव गरनथवननु ारीसिकोंडनु रामकृष्ण वादकके महिशबंधन ेनब गरनथवननु ारीसिकोंडनु कनंडद कंड ावउदननु मरेाबारदु कंड कनंडवननु मरेाबारदु\n",
            "['एक वाक्य में', 'गर्म पानी का क्या हुआ?', 'गर्मी का पानी भाप बन गया।', '2 में से', 'बादल कब भारी हुआ?', 'उष्मायन वातावरण ठंडा हो गया।', 'कौन विद्यासागर से बहस करने के लिए सहमत हुआ?', 'उत्तरः -', 'तेनाली रामकृष्ण विद्यासागर के साथ बहस करने के लिए सहमत हुए', '4 टेनाली', 'रामकृष्ण ने किस ग्रंथ का चयन किया?', 'उन्होंने उतेनाली रामकृष्ण वाद के लिए तिलकस्थ महिषाबंधन नामक पुस्तक का चयन किया।', 'यह संख्या 5 है', 'हिंदी के प्रति हमें क्या याद रखना चाहिए?', 'कन्नड़ भाषा को न भूलेंः', 'जवाब दीजिएः']\n"
          ],
          "name": "stdout"
        }
      ]
    },
    {
      "cell_type": "code",
      "metadata": {
        "colab": {
          "base_uri": "https://localhost:8080/"
        },
        "id": "cCp_4kEj6R3z",
        "outputId": "592e8f41-a1d7-4c74-ded3-109db852a7fa"
      },
      "source": [
        "kannada_img_file = '/content/drive/MyDrive/Colab Notebooks/kannada_04.jpg'\n",
        "# transcode = KannadaToHindi()\n",
        "translated, translittered = transcode.TranslateKannadaImageToHindi(kannada_img_file)\n",
        "print(translittered)\n",
        "print(translated)"
      ],
      "execution_count": 8,
      "outputs": [
        {
          "output_type": "stream",
          "text": [
            "100%|██████████| 28/28 [00:00<00:00, 10266.68it/s]\n"
          ],
          "name": "stderr"
        },
        {
          "output_type": "stream",
          "text": [
            "प्रशनेगलिगे ेरदु मुरु वाकयादलली विदासागरन मुख ारलितु रामकृष्ण विदासागरनोंडिगे वाद मदलु करना विदासागरन मुख ारलितु महिशबंडन ेंडरेनु ेंडरे ेलेलिन कददीगलु महिशबंधन ेंडरे ेाममे कटुव हगग िदे महिशबंधंड ार्थ कोटिरुव मैननु ारु ारिगे हेलिदरु विशा मोदले तिलिदिददरे नानु िलिगे बरुटले मैननु विदासागर कृष्णदेवराानिगे हेलिदनु िदु नाममुरिन दंकाौव हुदुगरिगु गोटु मैननु टेनाली रामकृष्ण विदासागरनिगे हेलिदनु केलगिन कविगल परिकहा मादी कुवेनपु पुरना हेसरु कुपपलेली वेंकतपप पुटपप जनन सथल सहिवमोगग जीललेा कुपपलेली िरलिल\n",
            "['नीचे दिए गए प्रश्नों के लिए दो/तीन पंक्ति में', 'विद्यासागर का चेहरा क्यों फूला?', 'उथेनाली रामकृष्ण विद्यासागर से बहस करने के लिए सहमत हुई', 'विद्यासागर का चेहरा फूट पड़ा', 'तिलकस्थ महिषाबंदन क्या है?', '0:', 'तिलकाष्ठा', '\"\" \"\" \"\" \"बैल की छड़ियां\" \"\" \"और\" \"\" \"महिषबंधन\" \"\" \"यानि बैल की रस्सी\" \"\"', 'तिलकत्था महिषाबंधन का अर्थ', 'ग्यारहवीं का वादा किसने किया?', 'यह विषय पहले से है', 'अगर मैं जानता हूं तो यहां आऊंगा।', 'जवाबः इस', 'विद्यासागर ने कृष्णदेवराय से कहा था -', 'हमारे पशुपालक भी यह जानते हैं।', 'उत्तरः यह', 'तेनाली रामकृष्ण ने विद्यासागर से कहा था -', 'बारहवें कवियों का परिचय देंः', '[शानदार]', 'पूरा नाम: कुप्पली वेंकटप्पा पुट्टप्पा', 'पैदा हुआ।', '29', '12', '1904', 'स्थान (P)', 'शिवमोगा जिले के कुपली', 'जवाब दीजिएः', 'नहीं था।']\n"
          ],
          "name": "stdout"
        }
      ]
    },
    {
      "cell_type": "code",
      "metadata": {
        "id": "zwqZ8Th_GzvB"
      },
      "source": [
        "# from polyglot.downloader import downloader\n",
        "# print(downloader.supported_languages_table(\"transliteration2\"))"
      ],
      "execution_count": null,
      "outputs": []
    },
    {
      "cell_type": "code",
      "metadata": {
        "id": "LxB073084crc"
      },
      "source": [
        ""
      ],
      "execution_count": null,
      "outputs": []
    }
  ]
}