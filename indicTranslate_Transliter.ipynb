{
  "nbformat": 4,
  "nbformat_minor": 0,
  "metadata": {
    "colab": {
      "name": "indicTranslate.ipynb",
      "provenance": [],
      "collapsed_sections": [],
      "mount_file_id": "1_d-VqqEAdMN9MK8eILnfxXEnuZ6C0MSc",
      "authorship_tag": "ABX9TyN/H//KUNCXTaAm0xqGXnWd",
      "include_colab_link": true
    },
    "kernelspec": {
      "name": "python3",
      "display_name": "Python 3"
    },
    "language_info": {
      "name": "python"
    },
    "accelerator": "GPU"
  },
  "cells": [
    {
      "cell_type": "markdown",
      "metadata": {
        "id": "view-in-github",
        "colab_type": "text"
      },
      "source": [
        "<a href=\"https://colab.research.google.com/github/readall/indiatranslator/blob/main/indicTranslate_Transliter.ipynb\" target=\"_parent\"><img src=\"https://colab.research.google.com/assets/colab-badge.svg\" alt=\"Open In Colab\"/></a>"
      ]
    },
    {
      "cell_type": "code",
      "metadata": {
        "id": "5kh_aJ5Fl0Mz"
      },
      "source": [
        "%%bash\n",
        "rm -rf sample_data\n",
        "# rm -rf fairseq"
      ],
      "execution_count": 3,
      "outputs": []
    },
    {
      "cell_type": "code",
      "metadata": {
        "id": "Cj9kQGm4RKbf"
      },
      "source": [
        "%%bash\n",
        "rm -rf sample_data\n",
        "pip install tqdm boto3 requests regex sentencepiece sacremoses transformers easyocr\n",
        "pip install mosestokenizer indic-nlp-library mock sacrebleu tensorboardX pyarrow subword-nmt\n",
        "git clone https://github.com/pytorch/fairseq.git\n",
        "cd fairseq\n",
        "pip install --editable ./\n",
        "%cd ..\n",
        "# pip install fairseq\n"
      ],
      "execution_count": null,
      "outputs": []
    },
    {
      "cell_type": "code",
      "metadata": {
        "id": "Bgd_SddtB1Fd"
      },
      "source": [
        "# clone the repo for running evaluation\n",
        "!git clone https://github.com/AI4Bharat/indicTrans.git\n",
        "%cd indicTrans\n",
        "# clone requirements repositories\n",
        "!git clone https://github.com/anoopkunchukuttan/indic_nlp_library.git\n",
        "!git clone https://github.com/anoopkunchukuttan/indic_nlp_resources.git\n",
        "!git clone https://github.com/rsennrich/subword-nmt.git\n",
        "%cd .."
      ],
      "execution_count": null,
      "outputs": []
    },
    {
      "cell_type": "code",
      "metadata": {
        "id": "OEO_HZxSIDvy"
      },
      "source": [
        "%%bash\n",
        "# downloading the indic-indic model\n",
        "wget https://storage.googleapis.com/samanantar-public/V0.3/models/indic-en.zip\n",
        "unzip indic-en.zip\n",
        "rm indic-en.zip\n",
        "wget https://storage.googleapis.com/samanantar-public/V0.3/models/m2m.zip\n",
        "unzip m2m.zip\n",
        "rm m2m.zip\n",
        "\n",
        "# %cd indicTrans"
      ],
      "execution_count": null,
      "outputs": []
    },
    {
      "cell_type": "code",
      "metadata": {
        "id": "L7GH6IwoSkFa",
        "colab": {
          "base_uri": "https://localhost:8080/"
        },
        "outputId": "1d26f5f1-6633-4fe6-d251-0102823f7872"
      },
      "source": [
        "!pwd\n",
        "!cp /content/m2m/vocab/bpe_codes.32k.SRC_TGT /content/m2m/vocab/bpe_codes.32k.SRC\n"
      ],
      "execution_count": 18,
      "outputs": [
        {
          "output_type": "stream",
          "text": [
            "/content/indicTrans\n"
          ],
          "name": "stdout"
        }
      ]
    },
    {
      "cell_type": "code",
      "metadata": {
        "id": "Y3ODkLZn70ra"
      },
      "source": [
        "%%bash\n",
        "apt-get install python-numpy libicu-dev\n",
        "pip install pyicu pycld2 morfessor \n",
        "pip install polyglot\n"
      ],
      "execution_count": null,
      "outputs": []
    },
    {
      "cell_type": "code",
      "metadata": {
        "id": "6xm_h0nvGBVO"
      },
      "source": [
        "!polyglot download embeddings2.en transliteration2.ar\n",
        "!polyglot download transliteration2.kn"
      ],
      "execution_count": null,
      "outputs": []
    },
    {
      "cell_type": "code",
      "metadata": {
        "id": "52fxyGvQEmna",
        "colab": {
          "base_uri": "https://localhost:8080/",
          "height": 68
        },
        "outputId": "bea95c73-466f-4d20-cee5-0c75740cb783"
      },
      "source": [
        "# we need to be in indicTrans directory for translation model to load\n",
        "%pwd\n",
        "%cd\n",
        "%cd /content/indicTrans/\n",
        "%pwd"
      ],
      "execution_count": 1,
      "outputs": [
        {
          "output_type": "stream",
          "text": [
            "/root\n",
            "/content/indicTrans\n"
          ],
          "name": "stdout"
        },
        {
          "output_type": "execute_result",
          "data": {
            "application/vnd.google.colaboratory.intrinsic+json": {
              "type": "string"
            },
            "text/plain": [
              "'/content/indicTrans'"
            ]
          },
          "metadata": {},
          "execution_count": 1
        }
      ]
    },
    {
      "cell_type": "code",
      "metadata": {
        "id": "DtdCYw-mRpFR"
      },
      "source": [
        "import torch\n",
        "import numpy as np\n",
        "import matplotlib.pyplot as plt  \n",
        "import easyocr\n",
        "from fairseq import checkpoint_utils, distributed_utils, options, tasks, utils\n",
        "from indicTrans.inference.engine import Model\n",
        "from polyglot.text import Text\n",
        "\n",
        "class KannadaToHindi :\n",
        "  def __init__(self):\n",
        "    self.reader = easyocr.Reader(['kn','en']) # need to run only once to load model into memory\n",
        "    self.indicm2m_model = Model(expdir='/content/m2m')\n",
        "\n",
        "\n",
        "  def getTextFromImage(self, image_file):\n",
        "    reader = easyocr.Reader(['kn','en']) # need to run only once to load model into memory\n",
        "    result = reader.readtext(image_file, detail = 0)\n",
        "    return result\n",
        "\n",
        "  def cleanTransliterText(self, transliter_text):\n",
        "    blank = ['',\"\", \" \", ' ', '\\t']\n",
        "    s_list = []\n",
        "    for x in transliter_text:\n",
        "      if x not in blank:\n",
        "        s_list.append(x)\n",
        "    return s_list\n",
        "\n",
        "  def getTransliterredText(self,text_from_image):\n",
        "    image_text = str(text_from_image)\n",
        "    text = Text(image_text)\n",
        "    transliter_text = text.transliterate(\"en\")\n",
        "    trans_str = \" \".join(self.cleanTransliterText(transliter_text))\n",
        "    return trans_str\n",
        "\n",
        "  def TranslateKannadaImageToHindi(self, kannada_img_file):\n",
        "    text_from_image = self.reader.readtext(kannada_img_file, detail = 0)\n",
        "    transliterred_result = self.getTransliterredText(text_from_image)\n",
        "    translated_result = self.indicm2m_model.batch_translate(text_from_image, 'kn', 'hi')\n",
        "    return translated_result, transliterred_result\n"
      ],
      "execution_count": 2,
      "outputs": []
    },
    {
      "cell_type": "code",
      "metadata": {
        "colab": {
          "base_uri": "https://localhost:8080/"
        },
        "id": "mnmfdr2S1nHK",
        "outputId": "101010df-487a-47e5-e4a9-b00a7aed0f12"
      },
      "source": [
        "kannada_img_file = '/content/drive/MyDrive/Colab Notebooks/kannada_01.jpg'\n",
        "transcode = KannadaToHindi()\n",
        "translated, translittered = transcode.TranslateKannadaImageToHindi(kannada_img_file)\n",
        "print(translittered)\n",
        "print(translated)"
      ],
      "execution_count": 3,
      "outputs": [
        {
          "output_type": "stream",
          "text": [
            "Initializing vocab and bpe\n",
            "Initializing model for translation\n"
          ],
          "name": "stdout"
        },
        {
          "output_type": "stream",
          "text": [
            "/usr/local/lib/python3.7/dist-packages/torch/nn/functional.py:718: UserWarning: Named tensors and all their associated APIs are an experimental feature and subject to change. Please do not use them for anything important until they are released as stable. (Triggered internally at  /pytorch/c10/core/TensorImpl.h:1156.)\n",
            "  return torch.max_pool2d(input, kernel_size, stride, padding, dilation, ceil_mode)\n",
            "100%|██████████| 21/21 [00:00<00:00, 15545.43it/s]\n",
            "/usr/local/lib/python3.7/dist-packages/torch/_tensor.py:575: UserWarning: floor_divide is deprecated, and will be removed in a future version of pytorch. It currently rounds toward 0 (like the 'trunc' function NOT 'floor'). This results in incorrect rounding for negative values.\n",
            "To keep the current behavior, use torch.div(a, b, rounding_mode='trunc'), or for actual floor division, use torch.div(a, b, rounding_mode='floor'). (Triggered internally at  /pytorch/aten/src/ATen/native/BinaryOps.cpp:467.)\n",
            "  return torch.floor_divide(self, other)\n"
          ],
          "name": "stderr"
        },
        {
          "output_type": "stream",
          "text": [
            "hondisi breairi kapadu hni buddivnt snrkshisu mle asn bett ramkrishna gudd kottiruv sriad arisi bitt sthldlli breairi kuvenpu appuge pnditru t mle krishnadevraan asthohdlli iddru nirin mul t\n",
            "['कृपया इस प्रकार लिखेंः', 'सुरक्षित रखें।', 'बूंद-बूंद', '2 में से', 'बुद्धिमान व्यक्ति', 'इसे सहेजें', 'बारिश', 'सीटों की संख्या', '4 नंबर', 'पर्वत', 'राम कृष्ण', 'पीठ', 'पर्वतमाला', 'सही जवाब चुनने के लिए नीचे दिए गए पते पर लिखेंः', '(शानदार, अप्पू, पंडित,', 'बारिश होती है।', '१. संपर्क', 'श्री कृष्णदेवराय के दरबार में', 'वे मौजूद थे।', 'जल स्रोत', 'संस्कृत']\n"
          ],
          "name": "stdout"
        }
      ]
    },
    {
      "cell_type": "code",
      "metadata": {
        "colab": {
          "base_uri": "https://localhost:8080/"
        },
        "id": "qoO2xHCx16Hv",
        "outputId": "2fa76792-bbba-4073-99da-f83407727168"
      },
      "source": [
        "kannada_img_file = '/content/drive/MyDrive/Colab Notebooks/kannada_02.jpg'\n",
        "# transcode = KannadaToHindi()\n",
        "translated, translittered = transcode.TranslateKannadaImageToHindi(kannada_img_file)\n",
        "print(translittered)\n",
        "print(translated)"
      ],
      "execution_count": 4,
      "outputs": [
        {
          "output_type": "stream",
          "text": [
            "100%|██████████| 9/9 [00:00<00:00, 4696.28it/s]\n"
          ],
          "name": "stderr"
        },
        {
          "output_type": "stream",
          "text": [
            "keutiruv sriad arisi khali bitt sthldlli breairi kuvenpu appuge pnditru mle k shnadevraan asthohdlli pnditru iddru nirin mul mle knndamm n hrke pdyavnnu bredvru kuvenpu alingn pdd arth appuge\n",
            "['परिसर में दी गई सही जानकारी', 'जवाब चुनें और खाली स्थान पर लिखेंः', '(शानदार, अप्पू, पंडित, संस्कृत, वर्षा)', '1. क.', 'विद्वान भगवान वेंकटेश्वर के दरबार में मौजूद थे।', 'जल स्रोत वर्षा', '3 नहीं', 'उन्होंने कहा कि कन्नड़ कविता की रचना बेहतरीन है।', 'आलिंगन शब्द का अर्थ है कर्ज लेना।']\n"
          ],
          "name": "stdout"
        }
      ]
    },
    {
      "cell_type": "code",
      "metadata": {
        "colab": {
          "base_uri": "https://localhost:8080/"
        },
        "id": "SF5OAAsT5msc",
        "outputId": "203d2344-7bb2-4e2e-83b7-13526049426e"
      },
      "source": [
        "kannada_img_file = '/content/drive/MyDrive/Colab Notebooks/kannada_03.jpg'\n",
        "# transcode = KannadaToHindi()\n",
        "translated, translittered = transcode.TranslateKannadaImageToHindi(kannada_img_file)\n",
        "print(translittered)\n",
        "print(translated)"
      ],
      "execution_count": 5,
      "outputs": [
        {
          "output_type": "stream",
          "text": [
            "100%|██████████| 16/16 [00:00<00:00, 15760.65it/s]\n"
          ],
          "name": "stderr"
        },
        {
          "output_type": "stream",
          "text": [
            "wakyadlli bisil niru niru aviaaitu mod awag bharwaaitu avi tnidu bharwaaitu vidasagrnondige wad madlu aru vidasagrnondige wad madlu tenali ramkrishna tenali ramkrishna wadkke av grnthvnnu arisikondnu ramkrishna wadkke mhishbndhn enb grnthvnnu arisikondnu knndd knd avudnnu mreabardu knd knndvnnu mreabardu\n",
            "['एक वाक्य में', 'गर्म पानी का क्या हुआ?', 'गर्मी का पानी भाप बन गया।', '2 में से', 'बादल कब भारी हुआ?', 'उष्मायन वातावरण ठंडा हो गया।', 'कौन विद्यासागर से बहस करने के लिए सहमत हुआ?', 'उत्तरः -', 'तेनाली रामकृष्ण विद्यासागर के साथ बहस करने के लिए सहमत हुए', '4 टेनाली', 'रामकृष्ण ने किस ग्रंथ का चयन किया?', 'उन्होंने उतेनाली रामकृष्ण वाद के लिए तिलकस्थ महिषाबंधन नामक पुस्तक का चयन किया।', 'यह संख्या 5 है', 'हिंदी के प्रति हमें क्या याद रखना चाहिए?', 'कन्नड़ भाषा को न भूलेंः', 'जवाब दीजिएः']\n"
          ],
          "name": "stdout"
        }
      ]
    },
    {
      "cell_type": "code",
      "metadata": {
        "colab": {
          "base_uri": "https://localhost:8080/"
        },
        "id": "cCp_4kEj6R3z",
        "outputId": "8a13525b-e6a4-4d3d-b74a-8ae759aaa824"
      },
      "source": [
        "kannada_img_file = '/content/drive/MyDrive/Colab Notebooks/kannada_04.jpg'\n",
        "# transcode = KannadaToHindi()\n",
        "translated, translittered = transcode.TranslateKannadaImageToHindi(kannada_img_file)\n",
        "print(translittered)\n",
        "print(translated)"
      ],
      "execution_count": 6,
      "outputs": [
        {
          "output_type": "stream",
          "text": [
            "100%|██████████| 28/28 [00:00<00:00, 10786.23it/s]\n"
          ],
          "name": "stderr"
        },
        {
          "output_type": "stream",
          "text": [
            "prashneglige erdu muru wakyadlli vidasagrn mukh arlitu ramkrishna vidasagrnondige wad madlu karna vidasagrn mukh arlitu mhishbndn endrenu endre elelin kddiglu mhishbndhn endre eamme kttuv hgg ide mhishbndhnd arth kottiruv matnnu aru arige helidru visha modle tilididdre nanu illige bruttle matnnu vidasagr krishnadevraanige helidnu idu nammurin dnkaauv hudugrigu gottu matnnu tenali ramkrishna vidasagrnige helidnu kelgin kvigl pricha madi kuvenpu purna hesru kuppleli venktpp puttpp jnn sthl shivmogg jillea kuppleli irlill\n",
            "['नीचे दिए गए प्रश्नों के लिए दो/तीन पंक्ति में', 'विद्यासागर का चेहरा क्यों फूला?', 'उथेनाली रामकृष्ण विद्यासागर से बहस करने के लिए सहमत हुई', 'विद्यासागर का चेहरा फूट पड़ा', 'तिलकस्थ महिषाबंदन क्या है?', '0:', 'तिलकाष्ठा', '\"\" \"\" \"\" \"बैल की छड़ियां\" \"\" \"और\" \"\" \"महिषबंधन\" \"\" \"यानि बैल की रस्सी\" \"\"', 'तिलकत्था महिषाबंधन का अर्थ', 'ग्यारहवीं का वादा किसने किया?', 'यह विषय पहले से है', 'अगर मैं जानता हूं तो यहां आऊंगा।', 'जवाबः इस', 'विद्यासागर ने कृष्णदेवराय से कहा था -', 'हमारे पशुपालक भी यह जानते हैं।', 'उत्तरः यह', 'तेनाली रामकृष्ण ने विद्यासागर से कहा था -', 'बारहवें कवियों का परिचय देंः', '[शानदार]', 'पूरा नाम: कुप्पली वेंकटप्पा पुट्टप्पा', 'पैदा हुआ।', '29', '12', '1904', 'स्थान (P)', 'शिवमोगा जिले के कुपली', 'जवाब दीजिएः', 'नहीं था।']\n"
          ],
          "name": "stdout"
        }
      ]
    },
    {
      "cell_type": "code",
      "metadata": {
        "id": "zwqZ8Th_GzvB"
      },
      "source": [
        "# from polyglot.downloader import downloader\n",
        "# print(downloader.supported_languages_table(\"transliteration2\"))"
      ],
      "execution_count": 7,
      "outputs": []
    },
    {
      "cell_type": "code",
      "metadata": {
        "id": "LxB073084crc"
      },
      "source": [
        ""
      ],
      "execution_count": null,
      "outputs": []
    }
  ]
}