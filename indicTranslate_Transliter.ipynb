{
  "nbformat": 4,
  "nbformat_minor": 0,
  "metadata": {
    "colab": {
      "name": "indicTranslate.ipynb",
      "provenance": [],
      "collapsed_sections": [],
      "mount_file_id": "1_d-VqqEAdMN9MK8eILnfxXEnuZ6C0MSc",
      "authorship_tag": "ABX9TyM3VRTntrgKk3cF8OK5Zek6",
      "include_colab_link": true
    },
    "kernelspec": {
      "name": "python3",
      "display_name": "Python 3"
    },
    "language_info": {
      "name": "python"
    },
    "accelerator": "GPU"
  },
  "cells": [
    {
      "cell_type": "markdown",
      "metadata": {
        "id": "view-in-github",
        "colab_type": "text"
      },
      "source": [
        "<a href=\"https://colab.research.google.com/github/readall/indiatranslator/blob/main/indicTranslate_Transliter.ipynb\" target=\"_parent\"><img src=\"https://colab.research.google.com/assets/colab-badge.svg\" alt=\"Open In Colab\"/></a>"
      ]
    },
    {
      "cell_type": "code",
      "metadata": {
        "id": "5kh_aJ5Fl0Mz"
      },
      "source": [
        "%%bash\n",
        "rm -rf sample_data\n",
        "rm -rf fairseq\n",
        "rm -rf indicTrans\n",
        "rm indic-en.zip"
      ],
      "execution_count": 1,
      "outputs": []
    },
    {
      "cell_type": "code",
      "metadata": {
        "id": "Cj9kQGm4RKbf"
      },
      "source": [
        "%%bash\n",
        "rm -rf sample_data\n",
        "pip install tqdm boto3 requests regex sentencepiece sacremoses transformers easyocr\n",
        "pip install mosestokenizer indic-nlp-library mock sacrebleu tensorboardX pyarrow subword-nmt\n",
        "git clone --depth 1 https://github.com/pytorch/fairseq.git\n",
        "cd fairseq\n",
        "pip install --editable ./\n",
        "%cd ..\n",
        "# pip install fairseq\n"
      ],
      "execution_count": null,
      "outputs": []
    },
    {
      "cell_type": "code",
      "metadata": {
        "id": "Bgd_SddtB1Fd"
      },
      "source": [
        "# clone the repo for running evaluation\n",
        "!git clone --depth 1 https://github.com/AI4Bharat/indicTrans.git\n",
        "%cd indicTrans\n",
        "# clone requirements repositories\n",
        "!git clone --depth 1 https://github.com/anoopkunchukuttan/indic_nlp_library.git\n",
        "!git clone --depth 1 https://github.com/anoopkunchukuttan/indic_nlp_resources.git\n",
        "!git clone --depth 1 https://github.com/rsennrich/subword-nmt.git\n",
        "%cd .."
      ],
      "execution_count": null,
      "outputs": []
    },
    {
      "cell_type": "code",
      "metadata": {
        "id": "OEO_HZxSIDvy"
      },
      "source": [
        "%%bash\n",
        "# downloading the indic-indic model\n",
        "wget https://storage.googleapis.com/samanantar-public/V0.3/models/indic-en.zip\n",
        "unzip indic-en.zip\n",
        "rm indic-en.zip\n",
        "wget https://storage.googleapis.com/samanantar-public/V0.3/models/m2m.zip\n",
        "unzip m2m.zip\n",
        "rm m2m.zip\n",
        "\n",
        "# %cd indicTrans"
      ],
      "execution_count": null,
      "outputs": []
    },
    {
      "cell_type": "code",
      "metadata": {
        "id": "L7GH6IwoSkFa"
      },
      "source": [
        "!pwd\n",
        "!cp /content/m2m/vocab/bpe_codes.32k.SRC_TGT /content/m2m/vocab/bpe_codes.32k.SRC\n"
      ],
      "execution_count": null,
      "outputs": []
    },
    {
      "cell_type": "code",
      "metadata": {
        "id": "Y3ODkLZn70ra"
      },
      "source": [
        "%%bash\n",
        "apt-get install python-numpy libicu-dev\n",
        "pip install pyicu pycld2 morfessor \n",
        "pip install polyglot\n"
      ],
      "execution_count": null,
      "outputs": []
    },
    {
      "cell_type": "code",
      "metadata": {
        "id": "6xm_h0nvGBVO"
      },
      "source": [
        "!polyglot download embeddings2.en transliteration2.ar\n",
        "!polyglot download transliteration2.kn"
      ],
      "execution_count": null,
      "outputs": []
    },
    {
      "cell_type": "code",
      "metadata": {
        "id": "52fxyGvQEmna"
      },
      "source": [
        "# we need to be in indicTrans directory for translation model to load\n",
        "%pwd\n",
        "%cd\n",
        "%cd /content/indicTrans/\n",
        "%pwd"
      ],
      "execution_count": null,
      "outputs": []
    },
    {
      "cell_type": "code",
      "metadata": {
        "id": "DtdCYw-mRpFR"
      },
      "source": [
        "import torch\n",
        "import numpy as np\n",
        "import matplotlib.pyplot as plt  \n",
        "import easyocr\n",
        "from fairseq import checkpoint_utils, distributed_utils, options, tasks, utils\n",
        "from indicTrans.inference.engine import Model\n",
        "from polyglot.text import Text\n",
        "\n",
        "class KannadaToHindi :\n",
        "  def __init__(self):\n",
        "    self.reader = easyocr.Reader(['kn','en']) # need to run only once to load model into memory\n",
        "    self.indicm2m_model = Model(expdir='/content/m2m')\n",
        "\n",
        "\n",
        "  def getTextFromImage(self, image_file):\n",
        "    reader = easyocr.Reader(['kn','en']) # need to run only once to load model into memory\n",
        "    result = reader.readtext(image_file, detail = 0)\n",
        "    return result\n",
        "\n",
        "  def cleanTransliterText(self, transliter_text):\n",
        "    blank = ['',\"\", \" \", ' ', '\\t']\n",
        "    s_list = []\n",
        "    for x in transliter_text:\n",
        "      if x not in blank:\n",
        "        s_list.append(x)\n",
        "    return s_list\n",
        "\n",
        "  def getTransliterredText(self,text_from_image):\n",
        "    image_text = str(text_from_image)\n",
        "    text = Text(image_text)\n",
        "    transliter_text = text.transliterate(\"hi\")\n",
        "    trans_str = \" \".join(self.cleanTransliterText(transliter_text))\n",
        "    return trans_str\n",
        "\n",
        "  def TranslateKannadaImageToHindi(self, kannada_img_file):\n",
        "    text_from_image = self.reader.readtext(kannada_img_file, detail = 0)\n",
        "    transliterred_result = self.getTransliterredText(text_from_image)\n",
        "    translated_result = self.indicm2m_model.batch_translate(text_from_image, 'kn', 'hi')\n",
        "    return translated_result, transliterred_result\n"
      ],
      "execution_count": null,
      "outputs": []
    },
    {
      "cell_type": "code",
      "metadata": {
        "id": "mnmfdr2S1nHK"
      },
      "source": [
        "kannada_img_file = '/content/drive/MyDrive/Colab Notebooks/kannada_01.jpg'\n",
        "transcode = KannadaToHindi()\n",
        "translated, translittered = transcode.TranslateKannadaImageToHindi(kannada_img_file)\n",
        "print(translittered)\n",
        "print(translated)"
      ],
      "execution_count": null,
      "outputs": []
    },
    {
      "cell_type": "code",
      "metadata": {
        "id": "qoO2xHCx16Hv"
      },
      "source": [
        "kannada_img_file = '/content/drive/MyDrive/Colab Notebooks/kannada_02.jpg'\n",
        "# transcode = KannadaToHindi()\n",
        "translated, translittered = transcode.TranslateKannadaImageToHindi(kannada_img_file)\n",
        "print(translittered)\n",
        "print(translated)"
      ],
      "execution_count": null,
      "outputs": []
    },
    {
      "cell_type": "code",
      "metadata": {
        "id": "SF5OAAsT5msc"
      },
      "source": [
        "kannada_img_file = '/content/drive/MyDrive/Colab Notebooks/kannada_03.jpg'\n",
        "# transcode = KannadaToHindi()\n",
        "translated, translittered = transcode.TranslateKannadaImageToHindi(kannada_img_file)\n",
        "print(translittered)\n",
        "print(translated)"
      ],
      "execution_count": null,
      "outputs": []
    },
    {
      "cell_type": "code",
      "metadata": {
        "id": "cCp_4kEj6R3z"
      },
      "source": [
        "kannada_img_file = '/content/drive/MyDrive/Colab Notebooks/kannada_04.jpg'\n",
        "# transcode = KannadaToHindi()\n",
        "translated, translittered = transcode.TranslateKannadaImageToHindi(kannada_img_file)\n",
        "print(translittered)\n",
        "print(translated)"
      ],
      "execution_count": null,
      "outputs": []
    },
    {
      "cell_type": "code",
      "metadata": {
        "id": "zwqZ8Th_GzvB"
      },
      "source": [
        "# from polyglot.downloader import downloader\n",
        "# print(downloader.supported_languages_table(\"transliteration2\"))"
      ],
      "execution_count": null,
      "outputs": []
    },
    {
      "cell_type": "code",
      "metadata": {
        "id": "LxB073084crc"
      },
      "source": [
        ""
      ],
      "execution_count": null,
      "outputs": []
    }
  ]
}