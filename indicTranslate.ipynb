{
  "nbformat": 4,
  "nbformat_minor": 0,
  "metadata": {
    "colab": {
      "name": "indicTranslate.ipynb",
      "provenance": [],
      "collapsed_sections": [],
      "mount_file_id": "1_d-VqqEAdMN9MK8eILnfxXEnuZ6C0MSc",
      "authorship_tag": "ABX9TyOyx9bwpru45w3/lkdQ+kM7",
      "include_colab_link": true
    },
    "kernelspec": {
      "name": "python3",
      "display_name": "Python 3"
    },
    "language_info": {
      "name": "python"
    },
    "accelerator": "GPU"
  },
  "cells": [
    {
      "cell_type": "markdown",
      "metadata": {
        "id": "view-in-github",
        "colab_type": "text"
      },
      "source": [
        "<a href=\"https://colab.research.google.com/github/readall/indiatranslator/blob/main/indicTranslate.ipynb\" target=\"_parent\"><img src=\"https://colab.research.google.com/assets/colab-badge.svg\" alt=\"Open In Colab\"/></a>"
      ]
    },
    {
      "cell_type": "code",
      "metadata": {
        "colab": {
          "base_uri": "https://localhost:8080/"
        },
        "id": "Cj9kQGm4RKbf",
        "outputId": "64532a6e-7ef7-4d6a-a42a-ea9ffec31168"
      },
      "source": [
        "%%bash\n",
        "pip install tqdm boto3 requests regex sentencepiece sacremoses transformers easyocr\n",
        "pip install mosestokenizer indic-nlp-library mock sacrebleu tensorboardX pyarrow subword-nmt\n",
        "git clone https://github.com/pytorch/fairseq.git\n",
        "cd fairseq\n",
        "pip install --editable ./\n",
        "%cd ..\n",
        "wget https://storage.googleapis.com/samanantar-public/V0.2/models/indic-en.zip\n",
        "unzip indic-en.zip\n"
      ],
      "execution_count": 1,
      "outputs": [
        {
          "output_type": "stream",
          "text": [
            "Process is terminated.\n"
          ],
          "name": "stdout"
        }
      ]
    },
    {
      "cell_type": "code",
      "metadata": {
        "colab": {
          "base_uri": "https://localhost:8080/"
        },
        "id": "OEO_HZxSIDvy",
        "outputId": "c7e1e98c-4b8a-48b1-a4ef-96980619eeb3"
      },
      "source": [
        "# downloading the indic-indic model\n",
        "!cd ..\n",
        "!wget https://storage.googleapis.com/samanantar-public/V0.3/models/m2m.zip\n",
        "!unzip m2m.zip\n",
        "\n",
        "# %cd indicTrans"
      ],
      "execution_count": 15,
      "outputs": [
        {
          "output_type": "stream",
          "text": [
            "--2021-08-20 06:28:53--  https://storage.googleapis.com/samanantar-public/V0.3/models/m2m.zip\n",
            "Resolving storage.googleapis.com (storage.googleapis.com)... 108.177.15.128, 173.194.76.128, 66.102.1.128, ...\n",
            "Connecting to storage.googleapis.com (storage.googleapis.com)|108.177.15.128|:443... connected.\n",
            "HTTP request sent, awaiting response... 200 OK\n",
            "Length: 4081990185 (3.8G) [application/zip]\n",
            "Saving to: ‘m2m.zip’\n",
            "\n",
            "m2m.zip             100%[===================>]   3.80G  41.2MB/s    in 73s     \n",
            "\n",
            "2021-08-20 06:30:06 (53.6 MB/s) - ‘m2m.zip’ saved [4081990185/4081990185]\n",
            "\n",
            "Archive:  m2m.zip\n",
            "   creating: m2m/\n",
            "   creating: m2m/vocab/\n",
            "  inflating: m2m/vocab/vocab.SRC     \n",
            "  inflating: m2m/vocab/vocab.TGT     \n",
            "  inflating: m2m/vocab/bpe_codes.32k.SRC_TGT  \n",
            "   creating: m2m/final_bin/\n",
            "  inflating: m2m/final_bin/dict.TGT.txt  \n",
            "  inflating: m2m/final_bin/dict.SRC.txt  \n",
            "   creating: m2m/model/\n",
            "  inflating: m2m/model/checkpoint_best.pt  \n"
          ],
          "name": "stdout"
        }
      ]
    },
    {
      "cell_type": "code",
      "metadata": {
        "colab": {
          "base_uri": "https://localhost:8080/"
        },
        "id": "Bgd_SddtB1Fd",
        "outputId": "f38fa704-a72e-471a-9c69-9946bf7fdc34"
      },
      "source": [
        "# clone the repo for running evaluation\n",
        "!git clone https://github.com/AI4Bharat/indicTrans.git\n",
        "%cd indicTrans\n",
        "# clone requirements repositories\n",
        "!git clone https://github.com/anoopkunchukuttan/indic_nlp_library.git\n",
        "!git clone https://github.com/anoopkunchukuttan/indic_nlp_resources.git\n",
        "!git clone https://github.com/rsennrich/subword-nmt.git\n",
        "%cd .."
      ],
      "execution_count": 15,
      "outputs": [
        {
          "output_type": "stream",
          "text": [
            "Cloning into 'indicTrans'...\n",
            "remote: Enumerating objects: 498, done.\u001b[K\n",
            "remote: Counting objects: 100% (201/201), done.\u001b[K\n",
            "remote: Compressing objects: 100% (83/83), done.\u001b[K\n",
            "remote: Total 498 (delta 160), reused 132 (delta 117), pack-reused 297\u001b[K\n",
            "Receiving objects: 100% (498/498), 1.49 MiB | 13.72 MiB/s, done.\n",
            "Resolving deltas: 100% (287/287), done.\n",
            "/content/indicTrans\n",
            "Cloning into 'indic_nlp_library'...\n",
            "remote: Enumerating objects: 1325, done.\u001b[K\n",
            "remote: Counting objects: 100% (147/147), done.\u001b[K\n",
            "remote: Compressing objects: 100% (103/103), done.\u001b[K\n",
            "remote: Total 1325 (delta 84), reused 89 (delta 41), pack-reused 1178\u001b[K\n",
            "Receiving objects: 100% (1325/1325), 9.57 MiB | 3.21 MiB/s, done.\n",
            "Resolving deltas: 100% (688/688), done.\n",
            "Cloning into 'indic_nlp_resources'...\n",
            "remote: Enumerating objects: 133, done.\u001b[K\n",
            "remote: Counting objects: 100% (7/7), done.\u001b[K\n",
            "remote: Compressing objects: 100% (7/7), done.\u001b[K\n",
            "remote: Total 133 (delta 0), reused 2 (delta 0), pack-reused 126\u001b[K\n",
            "Receiving objects: 100% (133/133), 149.77 MiB | 23.23 MiB/s, done.\n",
            "Resolving deltas: 100% (51/51), done.\n",
            "Checking out files: 100% (28/28), done.\n",
            "Cloning into 'subword-nmt'...\n",
            "remote: Enumerating objects: 580, done.\u001b[K\n",
            "remote: Counting objects: 100% (4/4), done.\u001b[K\n",
            "remote: Compressing objects: 100% (4/4), done.\u001b[K\n",
            "remote: Total 580 (delta 0), reused 1 (delta 0), pack-reused 576\u001b[K\n",
            "Receiving objects: 100% (580/580), 237.41 KiB | 1.41 MiB/s, done.\n",
            "Resolving deltas: 100% (349/349), done.\n",
            "/content\n"
          ],
          "name": "stdout"
        }
      ]
    },
    {
      "cell_type": "code",
      "metadata": {
        "id": "zhJhyh2GPFuA"
      },
      "source": [
        "import torch\n",
        "import numpy as np\n",
        "import matplotlib.pyplot as plt\n",
        "from transformers import AutoTokenizer, AutoModel\n",
        "import easyocr"
      ],
      "execution_count": 2,
      "outputs": []
    },
    {
      "cell_type": "code",
      "metadata": {
        "id": "98iADWYL3I3Z"
      },
      "source": [
        "reader = easyocr.Reader(['kn','en']) # need to run only once to load model into memory"
      ],
      "execution_count": 3,
      "outputs": []
    },
    {
      "cell_type": "code",
      "metadata": {
        "id": "NRXzV8Sy4VP8"
      },
      "source": [
        "# from google.colab import drive\n",
        "# drive.mount('/content/gdrive')"
      ],
      "execution_count": 4,
      "outputs": []
    },
    {
      "cell_type": "code",
      "metadata": {
        "id": "7-uaOYWC5BQE"
      },
      "source": [
        "image_root_path = \"/content/drive/MyDrive/Colab Notebooks/\"\n",
        "kannada_img_file = image_root_path + 'kannada_01.jpg'\n",
        "kannada_img_file_1 = '/content/drive/MyDrive/Colab Notebooks/kannada_01.jpg'"
      ],
      "execution_count": 5,
      "outputs": []
    },
    {
      "cell_type": "code",
      "metadata": {
        "colab": {
          "base_uri": "https://localhost:8080/"
        },
        "id": "xkmsggRV53gd",
        "outputId": "fdbb0556-f508-45e6-e3bd-a17fbe6207c9"
      },
      "source": [
        "result = reader.readtext('kannada_02.jpg',detail = 0)"
      ],
      "execution_count": 5,
      "outputs": [
        {
          "output_type": "stream",
          "text": [
            "/usr/local/lib/python3.7/dist-packages/torch/nn/functional.py:718: UserWarning: Named tensors and all their associated APIs are an experimental feature and subject to change. Please do not use them for anything important until they are released as stable. (Triggered internally at  /pytorch/c10/core/TensorImpl.h:1156.)\n",
            "  return torch.max_pool2d(input, kernel_size, stride, padding, dilation, ceil_mode)\n"
          ],
          "name": "stderr"
        }
      ]
    },
    {
      "cell_type": "code",
      "metadata": {
        "colab": {
          "base_uri": "https://localhost:8080/"
        },
        "id": "ZlNZ2TjR5-Mk",
        "outputId": "99da8a6e-5fe7-4e68-e59c-68a38abb52fc"
      },
      "source": [
        "result"
      ],
      "execution_count": 6,
      "outputs": [
        {
          "output_type": "execute_result",
          "data": {
            "text/plain": [
              "['|.ಹೊಂದಿಸಿ ಬರೆಯಿರಿ:',\n",
              " '೧.ಕಾಪಾಡು',\n",
              " 'ಹನಿ',\n",
              " '೨',\n",
              " 'ಬುದ್ದಿವಂತ',\n",
              " 'ಸಂರಕ್ಷಿಸು',\n",
              " '೩.ಮಳೆ',\n",
              " 'ಆಸನ',\n",
              " '೪',\n",
              " 'ಬೆಟ್ಟ',\n",
              " 'ರಾಮಕೃಷ್ಣ',\n",
              " '೫.ಪೀಠ',\n",
              " 'ಗುಡ್ಡ',\n",
              " 'Ilಆವರಣದಲ್ಲಿ ಕೊಟ್ಟಿರುವ ಸರಿಯಾದ ಉತ್ತರವನ್ನು ಆರಿಸಿ ಬಿಟ್ಟ ಸ್ಥಳದಲ್ಲಿ ಬರೆಯಿರಿ:',\n",
              " '(ಕುವೆಂಪು, ಅಪ್ಪುಗೆ, ಪಂಡಿತರು,',\n",
              " 'ತ,ಮಳೆ',\n",
              " '೧',\n",
              " '.ಕೃಷ್ಣದೇವರಾಯನ ಆಸ್ಥಾನದಲ್ಲಿ',\n",
              " 'ಇದ್ದರು.',\n",
              " '೨.ನೀರಿನ ಮೂಲ',\n",
              " 'ಸಂಸ್ಕೃ ತ']"
            ]
          },
          "metadata": {},
          "execution_count": 6
        }
      ]
    },
    {
      "cell_type": "code",
      "metadata": {
        "colab": {
          "base_uri": "https://localhost:8080/"
        },
        "id": "IugWk3WK6phD",
        "outputId": "acfb9017-2398-4fbc-9b81-f51a6e699c25"
      },
      "source": [
        "result = reader.readtext(kannada_img_file, detail = 0)\n",
        "with open('ka.txt', 'w') as f:\n",
        "    f.write(str(result))"
      ],
      "execution_count": 6,
      "outputs": [
        {
          "output_type": "stream",
          "text": [
            "/usr/local/lib/python3.7/dist-packages/torch/nn/functional.py:718: UserWarning: Named tensors and all their associated APIs are an experimental feature and subject to change. Please do not use them for anything important until they are released as stable. (Triggered internally at  /pytorch/c10/core/TensorImpl.h:1156.)\n",
            "  return torch.max_pool2d(input, kernel_size, stride, padding, dilation, ceil_mode)\n"
          ],
          "name": "stderr"
        }
      ]
    },
    {
      "cell_type": "code",
      "metadata": {
        "colab": {
          "base_uri": "https://localhost:8080/"
        },
        "id": "tjq244h16Yep",
        "outputId": "6be55a30-4042-4632-eaa6-785032ed941d"
      },
      "source": [
        "from transformers import AutoTokenizer, AutoModel\n",
        "  \n",
        "tokenizer = AutoTokenizer.from_pretrained(\"ai4bharat/indic-bert\", keep_accents=True)\n",
        "\n",
        "model = AutoModel.from_pretrained(\"ai4bharat/indic-bert\")"
      ],
      "execution_count": 7,
      "outputs": [
        {
          "output_type": "stream",
          "text": [
            "Some weights of the model checkpoint at ai4bharat/indic-bert were not used when initializing AlbertModel: ['predictions.dense.bias', 'predictions.LayerNorm.bias', 'predictions.LayerNorm.weight', 'predictions.decoder.bias', 'sop_classifier.classifier.bias', 'predictions.decoder.weight', 'sop_classifier.classifier.weight', 'predictions.bias', 'predictions.dense.weight']\n",
            "- This IS expected if you are initializing AlbertModel from the checkpoint of a model trained on another task or with another architecture (e.g. initializing a BertForSequenceClassification model from a BertForPreTraining model).\n",
            "- This IS NOT expected if you are initializing AlbertModel from the checkpoint of a model that you expect to be exactly identical (initializing a BertForSequenceClassification model from a BertForSequenceClassification model).\n"
          ],
          "name": "stderr"
        }
      ]
    },
    {
      "cell_type": "code",
      "metadata": {
        "id": "FSqFxhFa_C9f"
      },
      "source": [
        "from fairseq import checkpoint_utils, distributed_utils, options, tasks, utils"
      ],
      "execution_count": 8,
      "outputs": []
    },
    {
      "cell_type": "code",
      "metadata": {
        "colab": {
          "base_uri": "https://localhost:8080/"
        },
        "id": "6laCrqKuCLjx",
        "outputId": "e1ad1c4f-b927-4145-e55c-3a5b7e046b82"
      },
      "source": [
        "!bash ./indicTrans/joint_translate.sh ka.txt en_outputs.txt 'kn' 'en' './indic-en'"
      ],
      "execution_count": 16,
      "outputs": [
        {
          "output_type": "stream",
          "text": [
            "Fri Aug 20 05:40:52 UTC 2021\n",
            "Applying normalization and script conversion\n",
            "python3: can't open file 'scripts/preprocess_translate.py': [Errno 2] No such file or directory\n",
            "Number of sentences in input: \n",
            "Applying BPE\n",
            "./indicTrans/joint_translate.sh: line 27: en_outputs.txt.norm: No such file or directory\n",
            "python3: can't open file 'scripts/add_tags_translate.py': [Errno 2] No such file or directory\n",
            "Decoding\n",
            "Extracting translations, script conversion and detokenization\n",
            "python3: can't open file 'scripts/postprocess_translate.py': [Errno 2] No such file or directory\n",
            "Translation completed\n"
          ],
          "name": "stdout"
        }
      ]
    },
    {
      "cell_type": "code",
      "metadata": {
        "colab": {
          "base_uri": "https://localhost:8080/"
        },
        "id": "52fxyGvQEmna",
        "outputId": "d9f79c60-5af8-4513-9ab7-b3b7aea49b50"
      },
      "source": [
        "# we need to be in indicTrans directory for translation model to load\n",
        "%cd indicTrans/\n"
      ],
      "execution_count": 17,
      "outputs": [
        {
          "output_type": "stream",
          "text": [
            "[Errno 2] No such file or directory: 'indicTrans/'\n",
            "/content/indicTrans\n"
          ],
          "name": "stdout"
        }
      ]
    },
    {
      "cell_type": "code",
      "metadata": {
        "colab": {
          "base_uri": "https://localhost:8080/"
        },
        "id": "Pa1gUjfdFDDh",
        "outputId": "a282a5fe-a225-4e44-8f4a-1be0006a9cd4"
      },
      "source": [
        "!bash joint_translate.sh /content/ka.txt en_outputs.txt 'kn' 'en' '../indic-en'"
      ],
      "execution_count": 21,
      "outputs": [
        {
          "output_type": "stream",
          "text": [
            "Fri Aug 20 05:45:57 UTC 2021\n",
            "Applying normalization and script conversion\n",
            "100% 1/1 [00:00<00:00, 29.36it/s]\n",
            "Number of sentences in input: 1\n",
            "Applying BPE\n",
            "Decoding\n",
            "Extracting translations, script conversion and detokenization\n",
            "Translation completed\n"
          ],
          "name": "stdout"
        }
      ]
    },
    {
      "cell_type": "code",
      "metadata": {
        "colab": {
          "base_uri": "https://localhost:8080/"
        },
        "id": "tvlHgj7eFHaA",
        "outputId": "a6882dc4-a8ce-477c-b4b1-a44ff2820b93"
      },
      "source": [
        "!cat en_outputs.txt"
      ],
      "execution_count": 22,
      "outputs": [
        {
          "output_type": "stream",
          "text": [
            "Set to: ',', ',', ',', ',', ',', ',', ',', ',', ',', ',', ',', ',', ',', ',', ',', ',', ',', ',', ',', ',', ',', ',', ',', ',', ',', ',', ',', ',', ',', ',', ',', ',', ',', ',', ',', ',', ',', ',', ',', ',', ',', ',', ',', ',', ',', ',', ',', ',', ',', '\n"
          ],
          "name": "stdout"
        }
      ]
    },
    {
      "cell_type": "code",
      "metadata": {
        "colab": {
          "base_uri": "https://localhost:8080/"
        },
        "id": "Hh7qxqokF1Nc",
        "outputId": "c667a135-bcaf-4a69-ff73-f03558595d6d"
      },
      "source": [
        "from indicTrans.inference.engine import Model\n",
        "\n",
        "indic2en_model = Model(expdir='../indic-en')"
      ],
      "execution_count": 10,
      "outputs": [
        {
          "output_type": "stream",
          "text": [
            "Initializing vocab and bpe\n",
            "Initializing model for translation\n"
          ],
          "name": "stdout"
        }
      ]
    },
    {
      "cell_type": "code",
      "metadata": {
        "colab": {
          "base_uri": "https://localhost:8080/"
        },
        "id": "QUphjMRwHUzs",
        "outputId": "76206d72-902c-4bbc-a5ed-86ea7275b46b"
      },
      "source": [
        "indic2en_model.batch_translate(result, 'kn', 'en')"
      ],
      "execution_count": 11,
      "outputs": [
        {
          "output_type": "stream",
          "text": [
            "100%|██████████| 21/21 [00:00<00:00, 7672.51it/s]\n",
            "/usr/local/lib/python3.7/dist-packages/torch/_tensor.py:575: UserWarning: floor_divide is deprecated, and will be removed in a future version of pytorch. It currently rounds toward 0 (like the 'trunc' function NOT 'floor'). This results in incorrect rounding for negative values.\n",
            "To keep the current behavior, use torch.div(a, b, rounding_mode='trunc'), or for actual floor division, use torch.div(a, b, rounding_mode='floor'). (Triggered internally at  /pytorch/aten/src/ATen/native/BinaryOps.cpp:467.)\n",
            "  return torch.floor_divide(self, other)\n"
          ],
          "name": "stderr"
        },
        {
          "output_type": "execute_result",
          "data": {
            "text/plain": [
              "['Write down:',\n",
              " 'Save 1.',\n",
              " 'a pinch of salt',\n",
              " '1, 2. (a)',\n",
              " 'smart as a whip',\n",
              " 'Save As',\n",
              " 'Rain 3.',\n",
              " 'The seat...',\n",
              " '4 (a) What does it mean to be a Christian?',\n",
              " 'The mountain...',\n",
              " 'Ramakrishna (cricketer)',\n",
              " 'The Floss',\n",
              " 'The mountain...',\n",
              " 'Select the correct answer from the field below:',\n",
              " '(Great, great, great, great.)',\n",
              " 'The rain...',\n",
              " '1 (a)',\n",
              " \"In Krishnadevaraya's court\",\n",
              " 'was present.',\n",
              " 'Source of water',\n",
              " 'The culture']"
            ]
          },
          "metadata": {},
          "execution_count": 11
        }
      ]
    },
    {
      "cell_type": "code",
      "metadata": {
        "colab": {
          "base_uri": "https://localhost:8080/"
        },
        "id": "6z_NbNAORazg",
        "outputId": "05bcb9fd-7432-455a-e430-a7cb108eff1a"
      },
      "source": [
        "!pwd"
      ],
      "execution_count": 25,
      "outputs": [
        {
          "output_type": "stream",
          "text": [
            "/content/indicTrans\n"
          ],
          "name": "stdout"
        }
      ]
    },
    {
      "cell_type": "code",
      "metadata": {
        "id": "uuglbhkoRj2N"
      },
      "source": [
        "!cd .."
      ],
      "execution_count": 26,
      "outputs": []
    },
    {
      "cell_type": "code",
      "metadata": {
        "colab": {
          "base_uri": "https://localhost:8080/"
        },
        "id": "3G2WvRxGRlol",
        "outputId": "c87c5b78-6cc3-4fd5-a21e-5ebd7d975518"
      },
      "source": [
        "!wget https://storage.googleapis.com/samanantar-public/V0.3/models/m2m.zip\n",
        "!unzip m2m.zip"
      ],
      "execution_count": 27,
      "outputs": [
        {
          "output_type": "stream",
          "text": [
            "--2021-08-20 06:36:44--  https://storage.googleapis.com/samanantar-public/V0.3/models/m2m.zip\n",
            "Resolving storage.googleapis.com (storage.googleapis.com)... 74.125.133.128, 74.125.140.128, 108.177.15.128, ...\n",
            "Connecting to storage.googleapis.com (storage.googleapis.com)|74.125.133.128|:443... connected.\n",
            "HTTP request sent, awaiting response... 200 OK\n",
            "Length: 4081990185 (3.8G) [application/zip]\n",
            "Saving to: ‘m2m.zip’\n",
            "\n",
            "m2m.zip             100%[===================>]   3.80G   107MB/s    in 72s     \n",
            "\n",
            "2021-08-20 06:37:57 (54.1 MB/s) - ‘m2m.zip’ saved [4081990185/4081990185]\n",
            "\n",
            "Archive:  m2m.zip\n",
            "   creating: m2m/\n",
            "   creating: m2m/vocab/\n",
            "  inflating: m2m/vocab/vocab.SRC     \n",
            "  inflating: m2m/vocab/vocab.TGT     \n",
            "  inflating: m2m/vocab/bpe_codes.32k.SRC_TGT  \n",
            "   creating: m2m/final_bin/\n",
            "  inflating: m2m/final_bin/dict.TGT.txt  \n",
            "  inflating: m2m/final_bin/dict.SRC.txt  \n",
            "   creating: m2m/model/\n",
            "  inflating: m2m/model/checkpoint_best.pt  \n"
          ],
          "name": "stdout"
        }
      ]
    },
    {
      "cell_type": "code",
      "metadata": {
        "id": "pvPjpZqxRqv4"
      },
      "source": [
        "!cd \n",
        "!cd /content/indicTrans"
      ],
      "execution_count": 54,
      "outputs": []
    },
    {
      "cell_type": "code",
      "metadata": {
        "colab": {
          "base_uri": "https://localhost:8080/"
        },
        "id": "L7GH6IwoSkFa",
        "outputId": "dbd0be12-d4bc-4f4d-9700-b6e90b2e7b45"
      },
      "source": [
        "!pwd\n",
        "!cp /content/indicTrans/m2m/vocab/bpe_codes.32k.SRC_TGT /content/indicTrans/m2m/vocab/bpe_codes.32k.SRC\n"
      ],
      "execution_count": 57,
      "outputs": [
        {
          "output_type": "stream",
          "text": [
            "/content/indicTrans\n"
          ],
          "name": "stdout"
        }
      ]
    },
    {
      "cell_type": "code",
      "metadata": {
        "colab": {
          "base_uri": "https://localhost:8080/"
        },
        "id": "bmf94Kr5NzzK",
        "outputId": "22db7e46-f8d0-4fa6-c0e2-1c167eee2acb"
      },
      "source": [
        "from indicTrans.inference.engine import Model\n",
        "indicm2m_model = Model(expdir='/content/indicTrans/m2m')"
      ],
      "execution_count": 59,
      "outputs": [
        {
          "output_type": "stream",
          "text": [
            "Initializing vocab and bpe\n",
            "Initializing model for translation\n"
          ],
          "name": "stdout"
        }
      ]
    },
    {
      "cell_type": "code",
      "metadata": {
        "colab": {
          "base_uri": "https://localhost:8080/"
        },
        "id": "0XZ0Av0yVXJq",
        "outputId": "9e3e89ae-cc6e-4afb-c217-34b506f299d9"
      },
      "source": [
        "indicm2m_model.batch_translate(result, 'kn', 'hi')"
      ],
      "execution_count": 61,
      "outputs": [
        {
          "output_type": "stream",
          "text": [
            "100%|██████████| 21/21 [00:00<00:00, 5547.67it/s]\n"
          ],
          "name": "stderr"
        },
        {
          "output_type": "execute_result",
          "data": {
            "text/plain": [
              "['कृपया इस प्रकार लिखेंः',\n",
              " 'सुरक्षित रखें।',\n",
              " 'बूंद-बूंद',\n",
              " '2 में से',\n",
              " 'बुद्धिमान व्यक्ति',\n",
              " 'इसे सहेजें',\n",
              " 'बारिश',\n",
              " 'सीटों की संख्या',\n",
              " '4 नंबर',\n",
              " 'पर्वत',\n",
              " 'राम कृष्ण',\n",
              " 'पीठ',\n",
              " 'पर्वतमाला',\n",
              " 'सही जवाब चुनने के लिए नीचे दिए गए पते पर लिखेंः',\n",
              " '(शानदार, अप्पू, पंडित,',\n",
              " 'बारिश होती है।',\n",
              " '१. संपर्क',\n",
              " 'श्री कृष्णदेवराय के दरबार में',\n",
              " 'वे मौजूद थे।',\n",
              " 'जल स्रोत',\n",
              " 'संस्कृत']"
            ]
          },
          "metadata": {},
          "execution_count": 61
        }
      ]
    },
    {
      "cell_type": "code",
      "metadata": {
        "id": "RVkQzehTX0_k"
      },
      "source": [
        ""
      ],
      "execution_count": null,
      "outputs": []
    }
  ]
}